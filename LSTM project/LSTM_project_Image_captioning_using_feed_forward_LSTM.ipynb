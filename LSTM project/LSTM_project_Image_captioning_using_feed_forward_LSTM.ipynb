{
  "nbformat": 4,
  "nbformat_minor": 0,
  "metadata": {
    "colab": {
      "provenance": []
    },
    "kernelspec": {
      "name": "python3",
      "display_name": "Python 3"
    },
    "language_info": {
      "name": "python"
    },
    "gpuClass": "standard",
    "widgets": {
      "application/vnd.jupyter.widget-state+json": {
        "e049c57fe36c4f62b9aeddc3f9c95c1e": {
          "model_module": "@jupyter-widgets/controls",
          "model_name": "HBoxModel",
          "model_module_version": "1.5.0",
          "state": {
            "_dom_classes": [],
            "_model_module": "@jupyter-widgets/controls",
            "_model_module_version": "1.5.0",
            "_model_name": "HBoxModel",
            "_view_count": null,
            "_view_module": "@jupyter-widgets/controls",
            "_view_module_version": "1.5.0",
            "_view_name": "HBoxView",
            "box_style": "",
            "children": [
              "IPY_MODEL_2707b6a9917c4877966ce7d781db7800",
              "IPY_MODEL_9849c7e4543c41fa9bc32e95a56bde2e",
              "IPY_MODEL_3095393d5b924cb28fd8b238da628693"
            ],
            "layout": "IPY_MODEL_35cd08086ab2417391334c896febbef7"
          }
        },
        "2707b6a9917c4877966ce7d781db7800": {
          "model_module": "@jupyter-widgets/controls",
          "model_name": "HTMLModel",
          "model_module_version": "1.5.0",
          "state": {
            "_dom_classes": [],
            "_model_module": "@jupyter-widgets/controls",
            "_model_module_version": "1.5.0",
            "_model_name": "HTMLModel",
            "_view_count": null,
            "_view_module": "@jupyter-widgets/controls",
            "_view_module_version": "1.5.0",
            "_view_name": "HTMLView",
            "description": "",
            "description_tooltip": null,
            "layout": "IPY_MODEL_58153e06ad8541d6aff78fde2a966842",
            "placeholder": "​",
            "style": "IPY_MODEL_81b690bcd6fb48638db76990aaa68005",
            "value": "100%"
          }
        },
        "9849c7e4543c41fa9bc32e95a56bde2e": {
          "model_module": "@jupyter-widgets/controls",
          "model_name": "FloatProgressModel",
          "model_module_version": "1.5.0",
          "state": {
            "_dom_classes": [],
            "_model_module": "@jupyter-widgets/controls",
            "_model_module_version": "1.5.0",
            "_model_name": "FloatProgressModel",
            "_view_count": null,
            "_view_module": "@jupyter-widgets/controls",
            "_view_module_version": "1.5.0",
            "_view_name": "ProgressView",
            "bar_style": "success",
            "description": "",
            "description_tooltip": null,
            "layout": "IPY_MODEL_12322aa5d32d49d8b8059e3b952ae22c",
            "max": 241530880,
            "min": 0,
            "orientation": "horizontal",
            "style": "IPY_MODEL_7b4f526d2ff040348c14db79aca0a5ee",
            "value": 241530880
          }
        },
        "3095393d5b924cb28fd8b238da628693": {
          "model_module": "@jupyter-widgets/controls",
          "model_name": "HTMLModel",
          "model_module_version": "1.5.0",
          "state": {
            "_dom_classes": [],
            "_model_module": "@jupyter-widgets/controls",
            "_model_module_version": "1.5.0",
            "_model_name": "HTMLModel",
            "_view_count": null,
            "_view_module": "@jupyter-widgets/controls",
            "_view_module_version": "1.5.0",
            "_view_name": "HTMLView",
            "description": "",
            "description_tooltip": null,
            "layout": "IPY_MODEL_c4c54a67348245ae9ca128a0e435380e",
            "placeholder": "​",
            "style": "IPY_MODEL_d5a4191760574e9483773d0d411c7e4a",
            "value": " 230M/230M [00:01&lt;00:00, 187MB/s]"
          }
        },
        "35cd08086ab2417391334c896febbef7": {
          "model_module": "@jupyter-widgets/base",
          "model_name": "LayoutModel",
          "model_module_version": "1.2.0",
          "state": {
            "_model_module": "@jupyter-widgets/base",
            "_model_module_version": "1.2.0",
            "_model_name": "LayoutModel",
            "_view_count": null,
            "_view_module": "@jupyter-widgets/base",
            "_view_module_version": "1.2.0",
            "_view_name": "LayoutView",
            "align_content": null,
            "align_items": null,
            "align_self": null,
            "border": null,
            "bottom": null,
            "display": null,
            "flex": null,
            "flex_flow": null,
            "grid_area": null,
            "grid_auto_columns": null,
            "grid_auto_flow": null,
            "grid_auto_rows": null,
            "grid_column": null,
            "grid_gap": null,
            "grid_row": null,
            "grid_template_areas": null,
            "grid_template_columns": null,
            "grid_template_rows": null,
            "height": null,
            "justify_content": null,
            "justify_items": null,
            "left": null,
            "margin": null,
            "max_height": null,
            "max_width": null,
            "min_height": null,
            "min_width": null,
            "object_fit": null,
            "object_position": null,
            "order": null,
            "overflow": null,
            "overflow_x": null,
            "overflow_y": null,
            "padding": null,
            "right": null,
            "top": null,
            "visibility": null,
            "width": null
          }
        },
        "58153e06ad8541d6aff78fde2a966842": {
          "model_module": "@jupyter-widgets/base",
          "model_name": "LayoutModel",
          "model_module_version": "1.2.0",
          "state": {
            "_model_module": "@jupyter-widgets/base",
            "_model_module_version": "1.2.0",
            "_model_name": "LayoutModel",
            "_view_count": null,
            "_view_module": "@jupyter-widgets/base",
            "_view_module_version": "1.2.0",
            "_view_name": "LayoutView",
            "align_content": null,
            "align_items": null,
            "align_self": null,
            "border": null,
            "bottom": null,
            "display": null,
            "flex": null,
            "flex_flow": null,
            "grid_area": null,
            "grid_auto_columns": null,
            "grid_auto_flow": null,
            "grid_auto_rows": null,
            "grid_column": null,
            "grid_gap": null,
            "grid_row": null,
            "grid_template_areas": null,
            "grid_template_columns": null,
            "grid_template_rows": null,
            "height": null,
            "justify_content": null,
            "justify_items": null,
            "left": null,
            "margin": null,
            "max_height": null,
            "max_width": null,
            "min_height": null,
            "min_width": null,
            "object_fit": null,
            "object_position": null,
            "order": null,
            "overflow": null,
            "overflow_x": null,
            "overflow_y": null,
            "padding": null,
            "right": null,
            "top": null,
            "visibility": null,
            "width": null
          }
        },
        "81b690bcd6fb48638db76990aaa68005": {
          "model_module": "@jupyter-widgets/controls",
          "model_name": "DescriptionStyleModel",
          "model_module_version": "1.5.0",
          "state": {
            "_model_module": "@jupyter-widgets/controls",
            "_model_module_version": "1.5.0",
            "_model_name": "DescriptionStyleModel",
            "_view_count": null,
            "_view_module": "@jupyter-widgets/base",
            "_view_module_version": "1.2.0",
            "_view_name": "StyleView",
            "description_width": ""
          }
        },
        "12322aa5d32d49d8b8059e3b952ae22c": {
          "model_module": "@jupyter-widgets/base",
          "model_name": "LayoutModel",
          "model_module_version": "1.2.0",
          "state": {
            "_model_module": "@jupyter-widgets/base",
            "_model_module_version": "1.2.0",
            "_model_name": "LayoutModel",
            "_view_count": null,
            "_view_module": "@jupyter-widgets/base",
            "_view_module_version": "1.2.0",
            "_view_name": "LayoutView",
            "align_content": null,
            "align_items": null,
            "align_self": null,
            "border": null,
            "bottom": null,
            "display": null,
            "flex": null,
            "flex_flow": null,
            "grid_area": null,
            "grid_auto_columns": null,
            "grid_auto_flow": null,
            "grid_auto_rows": null,
            "grid_column": null,
            "grid_gap": null,
            "grid_row": null,
            "grid_template_areas": null,
            "grid_template_columns": null,
            "grid_template_rows": null,
            "height": null,
            "justify_content": null,
            "justify_items": null,
            "left": null,
            "margin": null,
            "max_height": null,
            "max_width": null,
            "min_height": null,
            "min_width": null,
            "object_fit": null,
            "object_position": null,
            "order": null,
            "overflow": null,
            "overflow_x": null,
            "overflow_y": null,
            "padding": null,
            "right": null,
            "top": null,
            "visibility": null,
            "width": null
          }
        },
        "7b4f526d2ff040348c14db79aca0a5ee": {
          "model_module": "@jupyter-widgets/controls",
          "model_name": "ProgressStyleModel",
          "model_module_version": "1.5.0",
          "state": {
            "_model_module": "@jupyter-widgets/controls",
            "_model_module_version": "1.5.0",
            "_model_name": "ProgressStyleModel",
            "_view_count": null,
            "_view_module": "@jupyter-widgets/base",
            "_view_module_version": "1.2.0",
            "_view_name": "StyleView",
            "bar_color": null,
            "description_width": ""
          }
        },
        "c4c54a67348245ae9ca128a0e435380e": {
          "model_module": "@jupyter-widgets/base",
          "model_name": "LayoutModel",
          "model_module_version": "1.2.0",
          "state": {
            "_model_module": "@jupyter-widgets/base",
            "_model_module_version": "1.2.0",
            "_model_name": "LayoutModel",
            "_view_count": null,
            "_view_module": "@jupyter-widgets/base",
            "_view_module_version": "1.2.0",
            "_view_name": "LayoutView",
            "align_content": null,
            "align_items": null,
            "align_self": null,
            "border": null,
            "bottom": null,
            "display": null,
            "flex": null,
            "flex_flow": null,
            "grid_area": null,
            "grid_auto_columns": null,
            "grid_auto_flow": null,
            "grid_auto_rows": null,
            "grid_column": null,
            "grid_gap": null,
            "grid_row": null,
            "grid_template_areas": null,
            "grid_template_columns": null,
            "grid_template_rows": null,
            "height": null,
            "justify_content": null,
            "justify_items": null,
            "left": null,
            "margin": null,
            "max_height": null,
            "max_width": null,
            "min_height": null,
            "min_width": null,
            "object_fit": null,
            "object_position": null,
            "order": null,
            "overflow": null,
            "overflow_x": null,
            "overflow_y": null,
            "padding": null,
            "right": null,
            "top": null,
            "visibility": null,
            "width": null
          }
        },
        "d5a4191760574e9483773d0d411c7e4a": {
          "model_module": "@jupyter-widgets/controls",
          "model_name": "DescriptionStyleModel",
          "model_module_version": "1.5.0",
          "state": {
            "_model_module": "@jupyter-widgets/controls",
            "_model_module_version": "1.5.0",
            "_model_name": "DescriptionStyleModel",
            "_view_count": null,
            "_view_module": "@jupyter-widgets/base",
            "_view_module_version": "1.2.0",
            "_view_name": "StyleView",
            "description_width": ""
          }
        }
      }
    }
  },
  "cells": [
    {
      "cell_type": "code",
      "execution_count": null,
      "metadata": {
        "colab": {
          "base_uri": "https://localhost:8080/"
        },
        "id": "tSCKCbz87bg1",
        "outputId": "ba325415-5c20-46c1-8e5c-833bb1288091"
      },
      "outputs": [
        {
          "output_type": "stream",
          "name": "stdout",
          "text": [
            "\u001b[2K     \u001b[90m━━━━━━━━━━━━━━━━━━━━━━━━━━━━━━━━━━━━━━━━\u001b[0m \u001b[32m58.9/58.9 kB\u001b[0m \u001b[31m2.4 MB/s\u001b[0m eta \u001b[36m0:00:00\u001b[0m\n",
            "\u001b[2K     \u001b[90m━━━━━━━━━━━━━━━━━━━━━━━━━━━━━━━━━━━━━━━\u001b[0m \u001b[32m123.2/123.2 kB\u001b[0m \u001b[31m6.7 MB/s\u001b[0m eta \u001b[36m0:00:00\u001b[0m\n",
            "\u001b[?25h"
          ]
        }
      ],
      "source": [
        "# Import the relevant packages, define the device\n",
        "!pip install -qU openimages torch_snippets urllib3\n",
        "!pip install torch==1.8.0 torchvision==0.9.0 torchaudio==0.8.0 torchtext==0.9\n",
        "!wget -O open_images_train_captions.jsonl -q https://storage.googleapis.com/localized-narratives/annotations/open_images_train_v6_captions.jsonl\n",
        "from torch_snippets import *\n",
        "import json\n",
        "device = 'cuda' if torch.cuda.is_available() else 'cpu'"
      ]
    },
    {
      "cell_type": "code",
      "source": [
        "import json\n",
        "import random\n",
        "import pandas as pd\n",
        "from tqdm import tqdm\n",
        "\n",
        "\n",
        "# Loop through the content of the JSON file and fetch the information of the first 100,000 images\n",
        "with open('open_images_train_captions.jsonl', 'r') as json_file:\n",
        " json_list = json_file.read().split('\\n')\n",
        "np.random.shuffle(json_list)\n",
        "data = []\n",
        "N = 100000\n",
        "for ix, json_str in Tqdm(enumerate(json_list), N):\n",
        "  if ix == N: \n",
        "    break\n",
        "  try:\n",
        "    result = json.loads(json_str)\n",
        "    x = pd.DataFrame.from_dict(result, orient='index').T \n",
        "    data.append(x)\n",
        "  except: \n",
        "    pass\n",
        "\n",
        "result"
      ],
      "metadata": {
        "colab": {
          "base_uri": "https://localhost:8080/"
        },
        "id": "cQsbV7fS7yaE",
        "outputId": "b7080302-f890-401c-a917-fed278d1e651"
      },
      "execution_count": null,
      "outputs": [
        {
          "output_type": "stream",
          "name": "stderr",
          "text": [
            "100%|██████████| 100000/100000 [01:09<00:00, 1449.22it/s]\n"
          ]
        },
        {
          "output_type": "execute_result",
          "data": {
            "text/plain": [
              "{'dataset_id': 'open_images',\n",
              " 'image_id': '08278fb265463385',\n",
              " 'annotator_id': 103,\n",
              " 'caption': 'This is the picture of a place where we have a sunset and also we can see some trees and plants.'}"
            ]
          },
          "metadata": {},
          "execution_count": 2
        }
      ]
    },
    {
      "cell_type": "code",
      "source": [
        "# Split the dataframe (data) into training and validation datasets\n",
        "np.random.seed(10)\n",
        "data = pd.concat(data)\n",
        "data['train'] = np.random.choice([True,False], size=len(data),p=[0.95,0.05]) \n",
        "data.to_csv('data.csv', index=False)"
      ],
      "metadata": {
        "id": "w4ue8_t88LFP"
      },
      "execution_count": null,
      "outputs": []
    },
    {
      "cell_type": "code",
      "source": [
        "# Download the images corresponding to the image IDs fetched from the JSON file:\n",
        "from openimages.download import _download_images_by_id \n",
        "!mkdir -p train-images val-images\n",
        "subset_imageIds = data[data['train']].image_id.tolist() \n",
        "_download_images_by_id(subset_imageIds, 'train', \\\n",
        "'./train-images/')\n",
        "subset_imageIds = data[~data['train']].image_id.tolist() \n",
        "_download_images_by_id(subset_imageIds, 'train', \\\n",
        "'./val-images/')"
      ],
      "metadata": {
        "colab": {
          "base_uri": "https://localhost:8080/"
        },
        "id": "tf1fRIe88PuY",
        "outputId": "b170ecc9-21e1-4363-c539-cac6240a0b22"
      },
      "execution_count": null,
      "outputs": [
        {
          "output_type": "stream",
          "name": "stderr",
          "text": [
            " 11%|█         | 10056/95044 [03:54<44:32, 31.80it/s]WARNING:urllib3.connectionpool:Connection pool is full, discarding connection: open-images-dataset.s3.amazonaws.com. Connection pool size: 10\n",
            " 37%|███▋      | 35491/95044 [14:03<44:57, 22.07it/s]WARNING:urllib3.connectionpool:Connection pool is full, discarding connection: open-images-dataset.s3.amazonaws.com. Connection pool size: 9\n",
            " 44%|████▎     | 41396/95044 [16:29<20:03, 44.58it/s]WARNING:urllib3.connectionpool:Connection pool is full, discarding connection: open-images-dataset.s3.amazonaws.com. Connection pool size: 10\n",
            " 79%|███████▉  | 75329/95044 [30:03<08:14, 39.86it/s]WARNING:urllib3.connectionpool:Connection pool is full, discarding connection: open-images-dataset.s3.amazonaws.com. Connection pool size: 10\n",
            "100%|██████████| 95044/95044 [37:57<00:00, 41.72it/s]\n",
            "100%|██████████| 4956/4956 [01:56<00:00, 42.37it/s]\n"
          ]
        }
      ]
    },
    {
      "cell_type": "code",
      "source": [
        "# A vocabulary object is something that can map every word in all the captions to a unique integer and vice versa\n",
        "from torchtext.legacy.data import Field\n",
        "from pycocotools.coco import COCO \n",
        "from collections import defaultdict\n",
        " \n",
        "captions = Field(sequential=False, init_token='<start>', eos_token='<end>')\n",
        "all_captions = data[data['train']]['caption'].tolist() \n",
        "all_tokens = [[w.lower() for w in c.split()] for c in all_captions]\n",
        "all_tokens = [w for sublist in all_tokens for w in sublist] \n",
        "captions.build_vocab(all_tokens)"
      ],
      "metadata": {
        "id": "AkRxZRTy9BNX"
      },
      "execution_count": null,
      "outputs": []
    },
    {
      "cell_type": "code",
      "source": [
        "# Captions vocabulary components\n",
        "class Vocab: \n",
        "  pass\n",
        "\n",
        "vocab = Vocab() \n",
        "captions.vocab.itos.insert(0, '<pad>') \n",
        "vocab.itos = captions.vocab.itos\n",
        "vocab.stoi = defaultdict(lambda: captions.vocab.itos.index('<unk>'))\n",
        "vocab.stoi['<pad>'] = 0\n",
        "for s,i in captions.vocab.stoi.items():\n",
        "  vocab.stoi[s] = i+1"
      ],
      "metadata": {
        "id": "uwKAm76j9HbD"
      },
      "execution_count": null,
      "outputs": []
    },
    {
      "cell_type": "code",
      "source": [
        "# Dataset class\n",
        "from torchvision import transforms \n",
        "\n",
        "class CaptioningData(Dataset):\n",
        "  def __init__(self, root, df, vocab): \n",
        "    self.df = df.reset_index(drop=True) \n",
        "    self.root = root\n",
        "    self.vocab = vocab\n",
        "    self.transform = transforms.Compose([ \n",
        "        transforms.Resize(224), transforms.RandomCrop(224), transforms.RandomHorizontalFlip(), \n",
        "        transforms.ToTensor(), transforms.Normalize((0.485, 0.456, 0.406), (0.229, 0.224, 0.225))]\n",
        "    )\n",
        "\n",
        "\n",
        "    # Returns one data pair (image and caption)\n",
        "  def __getitem__(self, index):\n",
        "    \"\"\"Returns one data pair (image and caption).\"\"\"\n",
        "    row = self.df.iloc[index].squeeze()\n",
        "    id = row.image_id\n",
        "    image_path = f'{self.root}/{id}.jpg'\n",
        "    image = Image.open(os.path.join(image_path)).convert('RGB')\n",
        "    caption = row.caption\n",
        "    tokens = str(caption).lower().split()\n",
        "    target = []\n",
        "    target.append(vocab.stoi['<start>']) \n",
        "    target.extend([vocab.stoi[token] for token in tokens]) \n",
        "    target.append(vocab.stoi['<end>'])\n",
        "    target = torch.Tensor(target).long()\n",
        "    return image, target, caption\n",
        "\n",
        "  def choose(self):\n",
        "    return self[np.random.randint(len(self))]\n",
        "\n",
        "  def __len__(self):\n",
        "    return len(self.df)\n",
        "\n",
        "  # Creates batch of captions and padds captions to be equal length\n",
        "  def collate_fn(self, data):\n",
        "    data.sort(key=lambda x: len(x[1]), reverse=True) \n",
        "    images, targets, captions = zip(*data)\n",
        "    images = torch.stack([self.transform(image) for image in images], 0) \n",
        "    lengths = [len(tar) for tar in targets]\n",
        "    _targets = torch.zeros(len(captions), max(lengths)).long()\n",
        "    for i, tar in enumerate(targets): \n",
        "      end = lengths[i]\n",
        "      _targets[i, :end] = tar[:end]\n",
        "    return images.to(device), _targets.to(device), torch.tensor(lengths).long().to(device)\n",
        "      "
      ],
      "metadata": {
        "id": "WJmpVVsz9Y7W"
      },
      "execution_count": null,
      "outputs": []
    },
    {
      "cell_type": "code",
      "source": [
        "#Define the training and validation dataset and data loaders\n",
        "trn_ds = CaptioningData('train-images', data[data['train']], vocab)\n",
        "val_ds = CaptioningData('val-images', data[~data['train']], vocab)\n",
        "image, target, caption = trn_ds.choose() \n",
        "# Show sample image and caption\n",
        "show(image, title=caption, sz=5)\n",
        "print(target)\n"
      ],
      "metadata": {
        "colab": {
          "base_uri": "https://localhost:8080/",
          "height": 221
        },
        "id": "DxG7D6rU_yA9",
        "outputId": "9b179a17-cd26-4213-d11d-71e7c3a4e0b3"
      },
      "execution_count": null,
      "outputs": [
        {
          "output_type": "display_data",
          "data": {
            "text/plain": [
              "<Figure size 360x360 with 1 Axes>"
            ],
            "image/png": "[encoded data removed]"
          },
          "metadata": {
            "needs_background": "light"
          }
        },
        {
          "output_type": "display_data",
          "data": {
            "text/plain": [
              "tensor\u001b[1m[\u001b[0m\u001b[1;36m32\u001b[0m\u001b[1m]\u001b[0m i64 x∈\u001b[1m[\u001b[0m\u001b[1;36m2\u001b[0m, \u001b[1;36m833\u001b[0m\u001b[1m]\u001b[0m \u001b[33mμ\u001b[0m=\u001b[1;36m111\u001b[0m\u001b[1;36m.812\u001b[0m \u001b[33mσ\u001b[0m=\u001b[1;36m225\u001b[0m\u001b[1;36m.712\u001b[0m\n"
            ],
            "text/html": [
              "<pre style=\"white-space:pre;overflow-x:auto;line-height:normal;font-family:Menlo,'DejaVu Sans Mono',consolas,'Courier New',monospace\">tensor<span style=\"font-weight: bold\">[</span><span style=\"color: #008080; text-decoration-color: #008080; font-weight: bold\">32</span><span style=\"font-weight: bold\">]</span> i64 x∈<span style=\"font-weight: bold\">[</span><span style=\"color: #008080; text-decoration-color: #008080; font-weight: bold\">2</span>, <span style=\"color: #008080; text-decoration-color: #008080; font-weight: bold\">833</span><span style=\"font-weight: bold\">]</span> <span style=\"color: #808000; text-decoration-color: #808000\">μ</span>=<span style=\"color: #008080; text-decoration-color: #008080; font-weight: bold\">111</span><span style=\"color: #008080; text-decoration-color: #008080; font-weight: bold\">.812</span> <span style=\"color: #808000; text-decoration-color: #808000\">σ</span>=<span style=\"color: #008080; text-decoration-color: #008080; font-weight: bold\">225</span><span style=\"color: #008080; text-decoration-color: #008080; font-weight: bold\">.712</span>\n",
              "</pre>\n"
            ]
          },
          "metadata": {}
        }
      ]
    },
    {
      "cell_type": "code",
      "source": [
        "# Create the dataloaders for the datasets\n",
        "trn_dl = DataLoader(trn_ds, 32, collate_fn=trn_ds.collate_fn) \n",
        "val_dl = DataLoader(val_ds, 32, collate_fn=val_ds.collate_fn)\n",
        "\n",
        "# A sample batch\n",
        "inspect(*next(iter(trn_dl)), names='images,targets,lengths')"
      ],
      "metadata": {
        "colab": {
          "base_uri": "https://localhost:8080/",
          "height": 204
        },
        "id": "XGQOxxS__7kv",
        "outputId": "1c8a502d-08a2-4ec1-96bd-b6f923bd3322"
      },
      "execution_count": null,
      "outputs": [
        {
          "output_type": "display_data",
          "data": {
            "text/plain": [
              "══════════════════════════════════════════════════════════════════\n"
            ],
            "text/html": [
              "<pre style=\"white-space:pre;overflow-x:auto;line-height:normal;font-family:Menlo,'DejaVu Sans Mono',consolas,'Courier New',monospace\">══════════════════════════════════════════════════════════════════\n",
              "</pre>\n"
            ]
          },
          "metadata": {}
        },
        {
          "output_type": "display_data",
          "data": {
            "text/plain": [
              "IMAGES:\n",
              "Tensor  Shape: \u001b[1;35mtorch.Size\u001b[0m\u001b[1m(\u001b[0m\u001b[1m[\u001b[0m\u001b[1;36m32\u001b[0m, \u001b[1;36m3\u001b[0m, \u001b[1;36m224\u001b[0m, \u001b[1;36m224\u001b[0m\u001b[1m]\u001b[0m\u001b[1m)\u001b[0m    Min: \u001b[1;36m-2.118\u001b[0m     Max: \u001b[1;36m2.640\u001b[0m      Mean: \u001b[1;36m-0.063\u001b[0m    dtype: \n",
              "torch.float32 @ cpu\n"
            ],
            "text/html": [
              "<pre style=\"white-space:pre;overflow-x:auto;line-height:normal;font-family:Menlo,'DejaVu Sans Mono',consolas,'Courier New',monospace\">IMAGES:\n",
              "Tensor  Shape: <span style=\"color: #800080; text-decoration-color: #800080; font-weight: bold\">torch.Size</span><span style=\"font-weight: bold\">([</span><span style=\"color: #008080; text-decoration-color: #008080; font-weight: bold\">32</span>, <span style=\"color: #008080; text-decoration-color: #008080; font-weight: bold\">3</span>, <span style=\"color: #008080; text-decoration-color: #008080; font-weight: bold\">224</span>, <span style=\"color: #008080; text-decoration-color: #008080; font-weight: bold\">224</span><span style=\"font-weight: bold\">])</span>    Min: <span style=\"color: #008080; text-decoration-color: #008080; font-weight: bold\">-2.118</span>     Max: <span style=\"color: #008080; text-decoration-color: #008080; font-weight: bold\">2.640</span>      Mean: <span style=\"color: #008080; text-decoration-color: #008080; font-weight: bold\">-0.063</span>    dtype: \n",
              "torch.float32 @ cpu\n",
              "</pre>\n"
            ]
          },
          "metadata": {}
        },
        {
          "output_type": "display_data",
          "data": {
            "text/plain": [
              "══════════════════════════════════════════════════════════════════\n"
            ],
            "text/html": [
              "<pre style=\"white-space:pre;overflow-x:auto;line-height:normal;font-family:Menlo,'DejaVu Sans Mono',consolas,'Courier New',monospace\">══════════════════════════════════════════════════════════════════\n",
              "</pre>\n"
            ]
          },
          "metadata": {}
        },
        {
          "output_type": "display_data",
          "data": {
            "text/plain": [
              "TARGETS:\n",
              "Tensor  Shape: \u001b[1;35mtorch.Size\u001b[0m\u001b[1m(\u001b[0m\u001b[1m[\u001b[0m\u001b[1;36m32\u001b[0m, \u001b[1;36m124\u001b[0m\u001b[1m]\u001b[0m\u001b[1m)\u001b[0m    Min: \u001b[1;36m0.000\u001b[0m      Max: \u001b[1;36m7535.000\u001b[0m   Mean: \u001b[1;36m50.495\u001b[0m    dtype: torch.int64 @ cpu\n"
            ],
            "text/html": [
              "<pre style=\"white-space:pre;overflow-x:auto;line-height:normal;font-family:Menlo,'DejaVu Sans Mono',consolas,'Courier New',monospace\">TARGETS:\n",
              "Tensor  Shape: <span style=\"color: #800080; text-decoration-color: #800080; font-weight: bold\">torch.Size</span><span style=\"font-weight: bold\">([</span><span style=\"color: #008080; text-decoration-color: #008080; font-weight: bold\">32</span>, <span style=\"color: #008080; text-decoration-color: #008080; font-weight: bold\">124</span><span style=\"font-weight: bold\">])</span>    Min: <span style=\"color: #008080; text-decoration-color: #008080; font-weight: bold\">0.000</span>      Max: <span style=\"color: #008080; text-decoration-color: #008080; font-weight: bold\">7535.000</span>   Mean: <span style=\"color: #008080; text-decoration-color: #008080; font-weight: bold\">50.495</span>    dtype: torch.int64 @ cpu\n",
              "</pre>\n"
            ]
          },
          "metadata": {}
        },
        {
          "output_type": "display_data",
          "data": {
            "text/plain": [
              "══════════════════════════════════════════════════════════════════\n"
            ],
            "text/html": [
              "<pre style=\"white-space:pre;overflow-x:auto;line-height:normal;font-family:Menlo,'DejaVu Sans Mono',consolas,'Courier New',monospace\">══════════════════════════════════════════════════════════════════\n",
              "</pre>\n"
            ]
          },
          "metadata": {}
        },
        {
          "output_type": "display_data",
          "data": {
            "text/plain": [
              "LENGTHS:\n",
              "Tensor  Shape: \u001b[1;35mtorch.Size\u001b[0m\u001b[1m(\u001b[0m\u001b[1m[\u001b[0m\u001b[1;36m32\u001b[0m\u001b[1m]\u001b[0m\u001b[1m)\u001b[0m Min: \u001b[1;36m13.000\u001b[0m     Max: \u001b[1;36m124.000\u001b[0m    Mean: \u001b[1;36m41.281\u001b[0m    dtype: torch.int64 @ cpu\n"
            ],
            "text/html": [
              "<pre style=\"white-space:pre;overflow-x:auto;line-height:normal;font-family:Menlo,'DejaVu Sans Mono',consolas,'Courier New',monospace\">LENGTHS:\n",
              "Tensor  Shape: <span style=\"color: #800080; text-decoration-color: #800080; font-weight: bold\">torch.Size</span><span style=\"font-weight: bold\">([</span><span style=\"color: #008080; text-decoration-color: #008080; font-weight: bold\">32</span><span style=\"font-weight: bold\">])</span> Min: <span style=\"color: #008080; text-decoration-color: #008080; font-weight: bold\">13.000</span>     Max: <span style=\"color: #008080; text-decoration-color: #008080; font-weight: bold\">124.000</span>    Mean: <span style=\"color: #008080; text-decoration-color: #008080; font-weight: bold\">41.281</span>    dtype: torch.int64 @ cpu\n",
              "</pre>\n"
            ]
          },
          "metadata": {}
        },
        {
          "output_type": "display_data",
          "data": {
            "text/plain": [
              "══════════════════════════════════════════════════════════════════\n"
            ],
            "text/html": [
              "<pre style=\"white-space:pre;overflow-x:auto;line-height:normal;font-family:Menlo,'DejaVu Sans Mono',consolas,'Courier New',monospace\">══════════════════════════════════════════════════════════════════\n",
              "</pre>\n"
            ]
          },
          "metadata": {}
        }
      ]
    },
    {
      "cell_type": "code",
      "source": [
        "from torch.nn.utils.rnn import pack_padded_sequence \n",
        "from torchvision import models\n",
        "\n",
        "# The network class - EncoderCNN\n",
        "class EncoderCNN(nn.Module):\n",
        "      \n",
        "  # Load the pretrained ResNet-152 and replace top fc layer\n",
        "  def __init__(self, embed_size):\n",
        "    \"\"\"Load the pretrained ResNet-152 and replace top fc layer.\"\"\"\n",
        "    super(EncoderCNN, self).__init__()\n",
        "    resnet = models.resnet152(pretrained=True)\n",
        "    # delete the last fc layer.\n",
        "    modules = list(resnet.children())[:-1]\n",
        "\n",
        "    # Connect it to a linear layer\n",
        "    self.resnet = nn.Sequential(*modules) \n",
        "    self.linear = nn.Linear(resnet.fc.in_features, \\\n",
        "    embed_size)\n",
        "    # Pass it through batch normalization \n",
        "    self.bn = nn.BatchNorm1d(embed_size, \\\n",
        "    momentum=0.01)\n",
        "\n",
        "  # Extract feature vectors from input images\n",
        "  def forward(self, images):\n",
        "    \"\"\"Extract feature vectors from input images.\"\"\" \n",
        "    with torch.no_grad():\n",
        "      features = self.resnet(images)\n",
        "    features = features.reshape(features.size(0), -1) \n",
        "    features = self.bn(self.linear(features))\n",
        "    return features\n",
        "\n",
        "# Creating encoder instance\n",
        "encoder = EncoderCNN(256).to(device)\n",
        "!pip install torch_summary\n",
        "from torchsummary import summary \n",
        "print(summary(encoder,torch.zeros(32,3,224,224).to(device)))"
      ],
      "metadata": {
        "colab": {
          "base_uri": "https://localhost:8080/",
          "height": 1000,
          "referenced_widgets": [
            "e049c57fe36c4f62b9aeddc3f9c95c1e",
            "2707b6a9917c4877966ce7d781db7800",
            "9849c7e4543c41fa9bc32e95a56bde2e",
            "3095393d5b924cb28fd8b238da628693",
            "35cd08086ab2417391334c896febbef7",
            "58153e06ad8541d6aff78fde2a966842",
            "81b690bcd6fb48638db76990aaa68005",
            "12322aa5d32d49d8b8059e3b952ae22c",
            "7b4f526d2ff040348c14db79aca0a5ee",
            "c4c54a67348245ae9ca128a0e435380e",
            "d5a4191760574e9483773d0d411c7e4a"
          ]
        },
        "id": "0Ce7z0VpAKj5",
        "outputId": "2d765279-dcf5-472b-d6a5-aac4b92346eb"
      },
      "execution_count": null,
      "outputs": [
        {
          "output_type": "stream",
          "name": "stderr",
          "text": [
            "Downloading: \"https://download.pytorch.org/models/resnet152-b121ed2d.pth\" to /root/.cache/torch/hub/checkpoints/resnet152-b121ed2d.pth\n"
          ]
        },
        {
          "output_type": "display_data",
          "data": {
            "text/plain": [
              "  0%|          | 0.00/230M [00:00<?, ?B/s]"
            ],
            "application/vnd.jupyter.widget-view+json": {
              "version_major": 2,
              "version_minor": 0,
              "model_id": "e049c57fe36c4f62b9aeddc3f9c95c1e"
            }
          },
          "metadata": {}
        },
        {
          "output_type": "stream",
          "name": "stdout",
          "text": [
            "Looking in indexes: https://pypi.org/simple, https://us-python.pkg.dev/colab-wheels/public/simple/\n",
            "Collecting torch_summary\n",
            "  Downloading torch_summary-1.4.5-py3-none-any.whl (16 kB)\n",
            "Installing collected packages: torch_summary\n",
            "Successfully installed torch_summary-1.4.5\n",
            "==========================================================================================\n",
            "Layer (type:depth-idx)                   Output Shape              Param #\n",
            "==========================================================================================\n",
            "├─Sequential: 1-1                        [-1, 2048, 1, 1]          --\n",
            "|    └─Conv2d: 2-1                       [-1, 64, 112, 112]        9,408\n",
            "|    └─BatchNorm2d: 2-2                  [-1, 64, 112, 112]        128\n",
            "|    └─ReLU: 2-3                         [-1, 64, 112, 112]        --\n",
            "|    └─MaxPool2d: 2-4                    [-1, 64, 56, 56]          --\n",
            "|    └─Sequential: 2-5                   [-1, 256, 56, 56]         --\n",
            "|    |    └─Bottleneck: 3-1              [-1, 256, 56, 56]         75,008\n",
            "|    |    └─Bottleneck: 3-2              [-1, 256, 56, 56]         70,400\n",
            "|    |    └─Bottleneck: 3-3              [-1, 256, 56, 56]         70,400\n",
            "|    └─Sequential: 2-6                   [-1, 512, 28, 28]         --\n",
            "|    |    └─Bottleneck: 3-4              [-1, 512, 28, 28]         379,392\n",
            "|    |    └─Bottleneck: 3-5              [-1, 512, 28, 28]         280,064\n",
            "|    |    └─Bottleneck: 3-6              [-1, 512, 28, 28]         280,064\n",
            "|    |    └─Bottleneck: 3-7              [-1, 512, 28, 28]         280,064\n",
            "|    |    └─Bottleneck: 3-8              [-1, 512, 28, 28]         280,064\n",
            "|    |    └─Bottleneck: 3-9              [-1, 512, 28, 28]         280,064\n",
            "|    |    └─Bottleneck: 3-10             [-1, 512, 28, 28]         280,064\n",
            "|    |    └─Bottleneck: 3-11             [-1, 512, 28, 28]         280,064\n",
            "|    └─Sequential: 2-7                   [-1, 1024, 14, 14]        --\n",
            "|    |    └─Bottleneck: 3-12             [-1, 1024, 14, 14]        1,512,448\n",
            "|    |    └─Bottleneck: 3-13             [-1, 1024, 14, 14]        1,117,184\n",
            "|    |    └─Bottleneck: 3-14             [-1, 1024, 14, 14]        1,117,184\n",
            "|    |    └─Bottleneck: 3-15             [-1, 1024, 14, 14]        1,117,184\n",
            "|    |    └─Bottleneck: 3-16             [-1, 1024, 14, 14]        1,117,184\n",
            "|    |    └─Bottleneck: 3-17             [-1, 1024, 14, 14]        1,117,184\n",
            "|    |    └─Bottleneck: 3-18             [-1, 1024, 14, 14]        1,117,184\n",
            "|    |    └─Bottleneck: 3-19             [-1, 1024, 14, 14]        1,117,184\n",
            "|    |    └─Bottleneck: 3-20             [-1, 1024, 14, 14]        1,117,184\n",
            "|    |    └─Bottleneck: 3-21             [-1, 1024, 14, 14]        1,117,184\n",
            "|    |    └─Bottleneck: 3-22             [-1, 1024, 14, 14]        1,117,184\n",
            "|    |    └─Bottleneck: 3-23             [-1, 1024, 14, 14]        1,117,184\n",
            "|    |    └─Bottleneck: 3-24             [-1, 1024, 14, 14]        1,117,184\n",
            "|    |    └─Bottleneck: 3-25             [-1, 1024, 14, 14]        1,117,184\n",
            "|    |    └─Bottleneck: 3-26             [-1, 1024, 14, 14]        1,117,184\n",
            "|    |    └─Bottleneck: 3-27             [-1, 1024, 14, 14]        1,117,184\n",
            "|    |    └─Bottleneck: 3-28             [-1, 1024, 14, 14]        1,117,184\n",
            "|    |    └─Bottleneck: 3-29             [-1, 1024, 14, 14]        1,117,184\n",
            "|    |    └─Bottleneck: 3-30             [-1, 1024, 14, 14]        1,117,184\n",
            "|    |    └─Bottleneck: 3-31             [-1, 1024, 14, 14]        1,117,184\n",
            "|    |    └─Bottleneck: 3-32             [-1, 1024, 14, 14]        1,117,184\n",
            "|    |    └─Bottleneck: 3-33             [-1, 1024, 14, 14]        1,117,184\n",
            "|    |    └─Bottleneck: 3-34             [-1, 1024, 14, 14]        1,117,184\n",
            "|    |    └─Bottleneck: 3-35             [-1, 1024, 14, 14]        1,117,184\n",
            "|    |    └─Bottleneck: 3-36             [-1, 1024, 14, 14]        1,117,184\n",
            "|    |    └─Bottleneck: 3-37             [-1, 1024, 14, 14]        1,117,184\n",
            "|    |    └─Bottleneck: 3-38             [-1, 1024, 14, 14]        1,117,184\n",
            "|    |    └─Bottleneck: 3-39             [-1, 1024, 14, 14]        1,117,184\n",
            "|    |    └─Bottleneck: 3-40             [-1, 1024, 14, 14]        1,117,184\n",
            "|    |    └─Bottleneck: 3-41             [-1, 1024, 14, 14]        1,117,184\n",
            "|    |    └─Bottleneck: 3-42             [-1, 1024, 14, 14]        1,117,184\n",
            "|    |    └─Bottleneck: 3-43             [-1, 1024, 14, 14]        1,117,184\n",
            "|    |    └─Bottleneck: 3-44             [-1, 1024, 14, 14]        1,117,184\n",
            "|    |    └─Bottleneck: 3-45             [-1, 1024, 14, 14]        1,117,184\n",
            "|    |    └─Bottleneck: 3-46             [-1, 1024, 14, 14]        1,117,184\n",
            "|    |    └─Bottleneck: 3-47             [-1, 1024, 14, 14]        1,117,184\n",
            "|    └─Sequential: 2-8                   [-1, 2048, 7, 7]          --\n",
            "|    |    └─Bottleneck: 3-48             [-1, 2048, 7, 7]          6,039,552\n",
            "|    |    └─Bottleneck: 3-49             [-1, 2048, 7, 7]          4,462,592\n",
            "|    |    └─Bottleneck: 3-50             [-1, 2048, 7, 7]          4,462,592\n",
            "|    └─AdaptiveAvgPool2d: 2-9            [-1, 2048, 1, 1]          --\n",
            "├─Linear: 1-2                            [-1, 256]                 524,544\n",
            "├─BatchNorm1d: 1-3                       [-1, 256]                 512\n",
            "==========================================================================================\n",
            "Total params: 58,668,864\n",
            "Trainable params: 58,668,864\n",
            "Non-trainable params: 0\n",
            "Total mult-adds (G): 11.33\n",
            "==========================================================================================\n",
            "Input size (MB): 18.38\n",
            "Forward/backward pass size (MB): 321.18\n",
            "Params size (MB): 223.80\n",
            "Estimated Total Size (MB): 563.36\n",
            "==========================================================================================\n"
          ]
        },
        {
          "output_type": "display_data",
          "data": {
            "text/plain": [
              "==========================================================================================\n",
              "Layer \u001b[1m(\u001b[0mtyp\u001b[1;92me:de\u001b[0mpth-idx\u001b[1m)\u001b[0m                   Output Shape              Param #\n",
              "==========================================================================================\n",
              "├─Sequential: \u001b[1;36m1\u001b[0m-\u001b[1;36m1\u001b[0m                        \u001b[1m[\u001b[0m\u001b[1;36m-1\u001b[0m, \u001b[1;36m2048\u001b[0m, \u001b[1;36m1\u001b[0m, \u001b[1;36m1\u001b[0m\u001b[1m]\u001b[0m          --\n",
              "|    └─Conv2d: \u001b[1;36m2\u001b[0m-\u001b[1;36m1\u001b[0m                       \u001b[1m[\u001b[0m\u001b[1;36m-1\u001b[0m, \u001b[1;36m64\u001b[0m, \u001b[1;36m112\u001b[0m, \u001b[1;36m112\u001b[0m\u001b[1m]\u001b[0m        \u001b[1;36m9\u001b[0m,\u001b[1;36m408\u001b[0m\n",
              "|    └─BatchNorm2d: \u001b[1;36m2\u001b[0m-\u001b[1;36m2\u001b[0m                  \u001b[1m[\u001b[0m\u001b[1;36m-1\u001b[0m, \u001b[1;36m64\u001b[0m, \u001b[1;36m112\u001b[0m, \u001b[1;36m112\u001b[0m\u001b[1m]\u001b[0m        \u001b[1;36m128\u001b[0m\n",
              "|    └─ReLU: \u001b[1;36m2\u001b[0m-\u001b[1;36m3\u001b[0m                         \u001b[1m[\u001b[0m\u001b[1;36m-1\u001b[0m, \u001b[1;36m64\u001b[0m, \u001b[1;36m112\u001b[0m, \u001b[1;36m112\u001b[0m\u001b[1m]\u001b[0m        --\n",
              "|    └─MaxPool2d: \u001b[1;36m2\u001b[0m-\u001b[1;36m4\u001b[0m                    \u001b[1m[\u001b[0m\u001b[1;36m-1\u001b[0m, \u001b[1;36m64\u001b[0m, \u001b[1;36m56\u001b[0m, \u001b[1;36m56\u001b[0m\u001b[1m]\u001b[0m          --\n",
              "|    └─Sequential: \u001b[1;36m2\u001b[0m-\u001b[1;36m5\u001b[0m                   \u001b[1m[\u001b[0m\u001b[1;36m-1\u001b[0m, \u001b[1;36m256\u001b[0m, \u001b[1;36m56\u001b[0m, \u001b[1;36m56\u001b[0m\u001b[1m]\u001b[0m         --\n",
              "|    |    └─Bottleneck: \u001b[1;36m3\u001b[0m-\u001b[1;36m1\u001b[0m              \u001b[1m[\u001b[0m\u001b[1;36m-1\u001b[0m, \u001b[1;36m256\u001b[0m, \u001b[1;36m56\u001b[0m, \u001b[1;36m56\u001b[0m\u001b[1m]\u001b[0m         \u001b[1;36m75\u001b[0m,\u001b[1;36m008\u001b[0m\n",
              "|    |    └─Bottleneck: \u001b[1;36m3\u001b[0m-\u001b[1;36m2\u001b[0m              \u001b[1m[\u001b[0m\u001b[1;36m-1\u001b[0m, \u001b[1;36m256\u001b[0m, \u001b[1;36m56\u001b[0m, \u001b[1;36m56\u001b[0m\u001b[1m]\u001b[0m         \u001b[1;36m70\u001b[0m,\u001b[1;36m400\u001b[0m\n",
              "|    |    └─Bottleneck: \u001b[1;36m3\u001b[0m-\u001b[1;36m3\u001b[0m              \u001b[1m[\u001b[0m\u001b[1;36m-1\u001b[0m, \u001b[1;36m256\u001b[0m, \u001b[1;36m56\u001b[0m, \u001b[1;36m56\u001b[0m\u001b[1m]\u001b[0m         \u001b[1;36m70\u001b[0m,\u001b[1;36m400\u001b[0m\n",
              "|    └─Sequential: \u001b[1;36m2\u001b[0m-\u001b[1;36m6\u001b[0m                   \u001b[1m[\u001b[0m\u001b[1;36m-1\u001b[0m, \u001b[1;36m512\u001b[0m, \u001b[1;36m28\u001b[0m, \u001b[1;36m28\u001b[0m\u001b[1m]\u001b[0m         --\n",
              "|    |    └─Bottleneck: \u001b[1;36m3\u001b[0m-\u001b[1;36m4\u001b[0m              \u001b[1m[\u001b[0m\u001b[1;36m-1\u001b[0m, \u001b[1;36m512\u001b[0m, \u001b[1;36m28\u001b[0m, \u001b[1;36m28\u001b[0m\u001b[1m]\u001b[0m         \u001b[1;36m379\u001b[0m,\u001b[1;36m392\u001b[0m\n",
              "|    |    └─Bottleneck: \u001b[1;36m3\u001b[0m-\u001b[1;36m5\u001b[0m              \u001b[1m[\u001b[0m\u001b[1;36m-1\u001b[0m, \u001b[1;36m512\u001b[0m, \u001b[1;36m28\u001b[0m, \u001b[1;36m28\u001b[0m\u001b[1m]\u001b[0m         \u001b[1;36m280\u001b[0m,\u001b[1;36m064\u001b[0m\n",
              "|    |    └─Bottleneck: \u001b[1;36m3\u001b[0m-\u001b[1;36m6\u001b[0m              \u001b[1m[\u001b[0m\u001b[1;36m-1\u001b[0m, \u001b[1;36m512\u001b[0m, \u001b[1;36m28\u001b[0m, \u001b[1;36m28\u001b[0m\u001b[1m]\u001b[0m         \u001b[1;36m280\u001b[0m,\u001b[1;36m064\u001b[0m\n",
              "|    |    └─Bottleneck: \u001b[1;36m3\u001b[0m-\u001b[1;36m7\u001b[0m              \u001b[1m[\u001b[0m\u001b[1;36m-1\u001b[0m, \u001b[1;36m512\u001b[0m, \u001b[1;36m28\u001b[0m, \u001b[1;36m28\u001b[0m\u001b[1m]\u001b[0m         \u001b[1;36m280\u001b[0m,\u001b[1;36m064\u001b[0m\n",
              "|    |    └─Bottleneck: \u001b[1;36m3\u001b[0m-\u001b[1;36m8\u001b[0m              \u001b[1m[\u001b[0m\u001b[1;36m-1\u001b[0m, \u001b[1;36m512\u001b[0m, \u001b[1;36m28\u001b[0m, \u001b[1;36m28\u001b[0m\u001b[1m]\u001b[0m         \u001b[1;36m280\u001b[0m,\u001b[1;36m064\u001b[0m\n",
              "|    |    └─Bottleneck: \u001b[1;36m3\u001b[0m-\u001b[1;36m9\u001b[0m              \u001b[1m[\u001b[0m\u001b[1;36m-1\u001b[0m, \u001b[1;36m512\u001b[0m, \u001b[1;36m28\u001b[0m, \u001b[1;36m28\u001b[0m\u001b[1m]\u001b[0m         \u001b[1;36m280\u001b[0m,\u001b[1;36m064\u001b[0m\n",
              "|    |    └─Bottleneck: \u001b[1;36m3\u001b[0m-\u001b[1;36m10\u001b[0m             \u001b[1m[\u001b[0m\u001b[1;36m-1\u001b[0m, \u001b[1;36m512\u001b[0m, \u001b[1;36m28\u001b[0m, \u001b[1;36m28\u001b[0m\u001b[1m]\u001b[0m         \u001b[1;36m280\u001b[0m,\u001b[1;36m064\u001b[0m\n",
              "|    |    └─Bottleneck: \u001b[1;36m3\u001b[0m-\u001b[1;36m11\u001b[0m             \u001b[1m[\u001b[0m\u001b[1;36m-1\u001b[0m, \u001b[1;36m512\u001b[0m, \u001b[1;36m28\u001b[0m, \u001b[1;36m28\u001b[0m\u001b[1m]\u001b[0m         \u001b[1;36m280\u001b[0m,\u001b[1;36m064\u001b[0m\n",
              "|    └─Sequential: \u001b[1;36m2\u001b[0m-\u001b[1;36m7\u001b[0m                   \u001b[1m[\u001b[0m\u001b[1;36m-1\u001b[0m, \u001b[1;36m1024\u001b[0m, \u001b[1;36m14\u001b[0m, \u001b[1;36m14\u001b[0m\u001b[1m]\u001b[0m        --\n",
              "|    |    └─Bottleneck: \u001b[1;36m3\u001b[0m-\u001b[1;36m12\u001b[0m             \u001b[1m[\u001b[0m\u001b[1;36m-1\u001b[0m, \u001b[1;36m1024\u001b[0m, \u001b[1;36m14\u001b[0m, \u001b[1;36m14\u001b[0m\u001b[1m]\u001b[0m        \u001b[1;36m1\u001b[0m,\u001b[1;36m512\u001b[0m,\u001b[1;36m448\u001b[0m\n",
              "|    |    └─Bottleneck: \u001b[1;36m3\u001b[0m-\u001b[1;36m13\u001b[0m             \u001b[1m[\u001b[0m\u001b[1;36m-1\u001b[0m, \u001b[1;36m1024\u001b[0m, \u001b[1;36m14\u001b[0m, \u001b[1;36m14\u001b[0m\u001b[1m]\u001b[0m        \u001b[1;36m1\u001b[0m,\u001b[1;36m117\u001b[0m,\u001b[1;36m184\u001b[0m\n",
              "|    |    └─Bottleneck: \u001b[1;36m3\u001b[0m-\u001b[1;36m14\u001b[0m             \u001b[1m[\u001b[0m\u001b[1;36m-1\u001b[0m, \u001b[1;36m1024\u001b[0m, \u001b[1;36m14\u001b[0m, \u001b[1;36m14\u001b[0m\u001b[1m]\u001b[0m        \u001b[1;36m1\u001b[0m,\u001b[1;36m117\u001b[0m,\u001b[1;36m184\u001b[0m\n",
              "|    |    └─Bottleneck: \u001b[1;36m3\u001b[0m-\u001b[1;36m15\u001b[0m             \u001b[1m[\u001b[0m\u001b[1;36m-1\u001b[0m, \u001b[1;36m1024\u001b[0m, \u001b[1;36m14\u001b[0m, \u001b[1;36m14\u001b[0m\u001b[1m]\u001b[0m        \u001b[1;36m1\u001b[0m,\u001b[1;36m117\u001b[0m,\u001b[1;36m184\u001b[0m\n",
              "|    |    └─Bottleneck: \u001b[1;36m3\u001b[0m-\u001b[1;36m16\u001b[0m             \u001b[1m[\u001b[0m\u001b[1;36m-1\u001b[0m, \u001b[1;36m1024\u001b[0m, \u001b[1;36m14\u001b[0m, \u001b[1;36m14\u001b[0m\u001b[1m]\u001b[0m        \u001b[1;36m1\u001b[0m,\u001b[1;36m117\u001b[0m,\u001b[1;36m184\u001b[0m\n",
              "|    |    └─Bottleneck: \u001b[1;36m3\u001b[0m-\u001b[1;36m17\u001b[0m             \u001b[1m[\u001b[0m\u001b[1;36m-1\u001b[0m, \u001b[1;36m1024\u001b[0m, \u001b[1;36m14\u001b[0m, \u001b[1;36m14\u001b[0m\u001b[1m]\u001b[0m        \u001b[1;36m1\u001b[0m,\u001b[1;36m117\u001b[0m,\u001b[1;36m184\u001b[0m\n",
              "|    |    └─Bottleneck: \u001b[1;36m3\u001b[0m-\u001b[1;36m18\u001b[0m             \u001b[1m[\u001b[0m\u001b[1;36m-1\u001b[0m, \u001b[1;36m1024\u001b[0m, \u001b[1;36m14\u001b[0m, \u001b[1;36m14\u001b[0m\u001b[1m]\u001b[0m        \u001b[1;36m1\u001b[0m,\u001b[1;36m117\u001b[0m,\u001b[1;36m184\u001b[0m\n",
              "|    |    └─Bottleneck: \u001b[1;36m3\u001b[0m-\u001b[1;36m19\u001b[0m             \u001b[1m[\u001b[0m\u001b[1;36m-1\u001b[0m, \u001b[1;36m1024\u001b[0m, \u001b[1;36m14\u001b[0m, \u001b[1;36m14\u001b[0m\u001b[1m]\u001b[0m        \u001b[1;36m1\u001b[0m,\u001b[1;36m117\u001b[0m,\u001b[1;36m184\u001b[0m\n",
              "|    |    └─Bottleneck: \u001b[1;36m3\u001b[0m-\u001b[1;36m20\u001b[0m             \u001b[1m[\u001b[0m\u001b[1;36m-1\u001b[0m, \u001b[1;36m1024\u001b[0m, \u001b[1;36m14\u001b[0m, \u001b[1;36m14\u001b[0m\u001b[1m]\u001b[0m        \u001b[1;36m1\u001b[0m,\u001b[1;36m117\u001b[0m,\u001b[1;36m184\u001b[0m\n",
              "|    |    └─Bottleneck: \u001b[1;36m3\u001b[0m-\u001b[1;36m21\u001b[0m             \u001b[1m[\u001b[0m\u001b[1;36m-1\u001b[0m, \u001b[1;36m1024\u001b[0m, \u001b[1;36m14\u001b[0m, \u001b[1;36m14\u001b[0m\u001b[1m]\u001b[0m        \u001b[1;36m1\u001b[0m,\u001b[1;36m117\u001b[0m,\u001b[1;36m184\u001b[0m\n",
              "|    |    └─Bottleneck: \u001b[1;36m3\u001b[0m-\u001b[1;36m22\u001b[0m             \u001b[1m[\u001b[0m\u001b[1;36m-1\u001b[0m, \u001b[1;36m1024\u001b[0m, \u001b[1;36m14\u001b[0m, \u001b[1;36m14\u001b[0m\u001b[1m]\u001b[0m        \u001b[1;36m1\u001b[0m,\u001b[1;36m117\u001b[0m,\u001b[1;36m184\u001b[0m\n",
              "|    |    └─Bottleneck: \u001b[1;36m3\u001b[0m-\u001b[1;36m23\u001b[0m             \u001b[1m[\u001b[0m\u001b[1;36m-1\u001b[0m, \u001b[1;36m1024\u001b[0m, \u001b[1;36m14\u001b[0m, \u001b[1;36m14\u001b[0m\u001b[1m]\u001b[0m        \u001b[1;36m1\u001b[0m,\u001b[1;36m117\u001b[0m,\u001b[1;36m184\u001b[0m\n",
              "|    |    └─Bottleneck: \u001b[1;36m3\u001b[0m-\u001b[1;36m24\u001b[0m             \u001b[1m[\u001b[0m\u001b[1;36m-1\u001b[0m, \u001b[1;36m1024\u001b[0m, \u001b[1;36m14\u001b[0m, \u001b[1;36m14\u001b[0m\u001b[1m]\u001b[0m        \u001b[1;36m1\u001b[0m,\u001b[1;36m117\u001b[0m,\u001b[1;36m184\u001b[0m\n",
              "|    |    └─Bottleneck: \u001b[1;36m3\u001b[0m-\u001b[1;36m25\u001b[0m             \u001b[1m[\u001b[0m\u001b[1;36m-1\u001b[0m, \u001b[1;36m1024\u001b[0m, \u001b[1;36m14\u001b[0m, \u001b[1;36m14\u001b[0m\u001b[1m]\u001b[0m        \u001b[1;36m1\u001b[0m,\u001b[1;36m117\u001b[0m,\u001b[1;36m184\u001b[0m\n",
              "|    |    └─Bottleneck: \u001b[1;36m3\u001b[0m-\u001b[1;36m26\u001b[0m             \u001b[1m[\u001b[0m\u001b[1;36m-1\u001b[0m, \u001b[1;36m1024\u001b[0m, \u001b[1;36m14\u001b[0m, \u001b[1;36m14\u001b[0m\u001b[1m]\u001b[0m        \u001b[1;36m1\u001b[0m,\u001b[1;36m117\u001b[0m,\u001b[1;36m184\u001b[0m\n",
              "|    |    └─Bottleneck: \u001b[1;36m3\u001b[0m-\u001b[1;36m27\u001b[0m             \u001b[1m[\u001b[0m\u001b[1;36m-1\u001b[0m, \u001b[1;36m1024\u001b[0m, \u001b[1;36m14\u001b[0m, \u001b[1;36m14\u001b[0m\u001b[1m]\u001b[0m        \u001b[1;36m1\u001b[0m,\u001b[1;36m117\u001b[0m,\u001b[1;36m184\u001b[0m\n",
              "|    |    └─Bottleneck: \u001b[1;36m3\u001b[0m-\u001b[1;36m28\u001b[0m             \u001b[1m[\u001b[0m\u001b[1;36m-1\u001b[0m, \u001b[1;36m1024\u001b[0m, \u001b[1;36m14\u001b[0m, \u001b[1;36m14\u001b[0m\u001b[1m]\u001b[0m        \u001b[1;36m1\u001b[0m,\u001b[1;36m117\u001b[0m,\u001b[1;36m184\u001b[0m\n",
              "|    |    └─Bottleneck: \u001b[1;36m3\u001b[0m-\u001b[1;36m29\u001b[0m             \u001b[1m[\u001b[0m\u001b[1;36m-1\u001b[0m, \u001b[1;36m1024\u001b[0m, \u001b[1;36m14\u001b[0m, \u001b[1;36m14\u001b[0m\u001b[1m]\u001b[0m        \u001b[1;36m1\u001b[0m,\u001b[1;36m117\u001b[0m,\u001b[1;36m184\u001b[0m\n",
              "|    |    └─Bottleneck: \u001b[1;36m3\u001b[0m-\u001b[1;36m30\u001b[0m             \u001b[1m[\u001b[0m\u001b[1;36m-1\u001b[0m, \u001b[1;36m1024\u001b[0m, \u001b[1;36m14\u001b[0m, \u001b[1;36m14\u001b[0m\u001b[1m]\u001b[0m        \u001b[1;36m1\u001b[0m,\u001b[1;36m117\u001b[0m,\u001b[1;36m184\u001b[0m\n",
              "|    |    └─Bottleneck: \u001b[1;36m3\u001b[0m-\u001b[1;36m31\u001b[0m             \u001b[1m[\u001b[0m\u001b[1;36m-1\u001b[0m, \u001b[1;36m1024\u001b[0m, \u001b[1;36m14\u001b[0m, \u001b[1;36m14\u001b[0m\u001b[1m]\u001b[0m        \u001b[1;36m1\u001b[0m,\u001b[1;36m117\u001b[0m,\u001b[1;36m184\u001b[0m\n",
              "|    |    └─Bottleneck: \u001b[1;36m3\u001b[0m-\u001b[1;36m32\u001b[0m             \u001b[1m[\u001b[0m\u001b[1;36m-1\u001b[0m, \u001b[1;36m1024\u001b[0m, \u001b[1;36m14\u001b[0m, \u001b[1;36m14\u001b[0m\u001b[1m]\u001b[0m        \u001b[1;36m1\u001b[0m,\u001b[1;36m117\u001b[0m,\u001b[1;36m184\u001b[0m\n",
              "|    |    └─Bottleneck: \u001b[1;36m3\u001b[0m-\u001b[1;36m33\u001b[0m             \u001b[1m[\u001b[0m\u001b[1;36m-1\u001b[0m, \u001b[1;36m1024\u001b[0m, \u001b[1;36m14\u001b[0m, \u001b[1;36m14\u001b[0m\u001b[1m]\u001b[0m        \u001b[1;36m1\u001b[0m,\u001b[1;36m117\u001b[0m,\u001b[1;36m184\u001b[0m\n",
              "|    |    └─Bottleneck: \u001b[1;36m3\u001b[0m-\u001b[1;36m34\u001b[0m             \u001b[1m[\u001b[0m\u001b[1;36m-1\u001b[0m, \u001b[1;36m1024\u001b[0m, \u001b[1;36m14\u001b[0m, \u001b[1;36m14\u001b[0m\u001b[1m]\u001b[0m        \u001b[1;36m1\u001b[0m,\u001b[1;36m117\u001b[0m,\u001b[1;36m184\u001b[0m\n",
              "|    |    └─Bottleneck: \u001b[1;36m3\u001b[0m-\u001b[1;36m35\u001b[0m             \u001b[1m[\u001b[0m\u001b[1;36m-1\u001b[0m, \u001b[1;36m1024\u001b[0m, \u001b[1;36m14\u001b[0m, \u001b[1;36m14\u001b[0m\u001b[1m]\u001b[0m        \u001b[1;36m1\u001b[0m,\u001b[1;36m117\u001b[0m,\u001b[1;36m184\u001b[0m\n",
              "|    |    └─Bottleneck: \u001b[1;36m3\u001b[0m-\u001b[1;36m36\u001b[0m             \u001b[1m[\u001b[0m\u001b[1;36m-1\u001b[0m, \u001b[1;36m1024\u001b[0m, \u001b[1;36m14\u001b[0m, \u001b[1;36m14\u001b[0m\u001b[1m]\u001b[0m        \u001b[1;36m1\u001b[0m,\u001b[1;36m117\u001b[0m,\u001b[1;36m184\u001b[0m\n",
              "|    |    └─Bottleneck: \u001b[1;36m3\u001b[0m-\u001b[1;36m37\u001b[0m             \u001b[1m[\u001b[0m\u001b[1;36m-1\u001b[0m, \u001b[1;36m1024\u001b[0m, \u001b[1;36m14\u001b[0m, \u001b[1;36m14\u001b[0m\u001b[1m]\u001b[0m        \u001b[1;36m1\u001b[0m,\u001b[1;36m117\u001b[0m,\u001b[1;36m184\u001b[0m\n",
              "|    |    └─Bottleneck: \u001b[1;36m3\u001b[0m-\u001b[1;36m38\u001b[0m             \u001b[1m[\u001b[0m\u001b[1;36m-1\u001b[0m, \u001b[1;36m1024\u001b[0m, \u001b[1;36m14\u001b[0m, \u001b[1;36m14\u001b[0m\u001b[1m]\u001b[0m        \u001b[1;36m1\u001b[0m,\u001b[1;36m117\u001b[0m,\u001b[1;36m184\u001b[0m\n",
              "|    |    └─Bottleneck: \u001b[1;36m3\u001b[0m-\u001b[1;36m39\u001b[0m             \u001b[1m[\u001b[0m\u001b[1;36m-1\u001b[0m, \u001b[1;36m1024\u001b[0m, \u001b[1;36m14\u001b[0m, \u001b[1;36m14\u001b[0m\u001b[1m]\u001b[0m        \u001b[1;36m1\u001b[0m,\u001b[1;36m117\u001b[0m,\u001b[1;36m184\u001b[0m\n",
              "|    |    └─Bottleneck: \u001b[1;36m3\u001b[0m-\u001b[1;36m40\u001b[0m             \u001b[1m[\u001b[0m\u001b[1;36m-1\u001b[0m, \u001b[1;36m1024\u001b[0m, \u001b[1;36m14\u001b[0m, \u001b[1;36m14\u001b[0m\u001b[1m]\u001b[0m        \u001b[1;36m1\u001b[0m,\u001b[1;36m117\u001b[0m,\u001b[1;36m184\u001b[0m\n",
              "|    |    └─Bottleneck: \u001b[1;36m3\u001b[0m-\u001b[1;36m41\u001b[0m             \u001b[1m[\u001b[0m\u001b[1;36m-1\u001b[0m, \u001b[1;36m1024\u001b[0m, \u001b[1;36m14\u001b[0m, \u001b[1;36m14\u001b[0m\u001b[1m]\u001b[0m        \u001b[1;36m1\u001b[0m,\u001b[1;36m117\u001b[0m,\u001b[1;36m184\u001b[0m\n",
              "|    |    └─Bottleneck: \u001b[1;36m3\u001b[0m-\u001b[1;36m42\u001b[0m             \u001b[1m[\u001b[0m\u001b[1;36m-1\u001b[0m, \u001b[1;36m1024\u001b[0m, \u001b[1;36m14\u001b[0m, \u001b[1;36m14\u001b[0m\u001b[1m]\u001b[0m        \u001b[1;36m1\u001b[0m,\u001b[1;36m117\u001b[0m,\u001b[1;36m184\u001b[0m\n",
              "|    |    └─Bottleneck: \u001b[1;36m3\u001b[0m-\u001b[1;36m43\u001b[0m             \u001b[1m[\u001b[0m\u001b[1;36m-1\u001b[0m, \u001b[1;36m1024\u001b[0m, \u001b[1;36m14\u001b[0m, \u001b[1;36m14\u001b[0m\u001b[1m]\u001b[0m        \u001b[1;36m1\u001b[0m,\u001b[1;36m117\u001b[0m,\u001b[1;36m184\u001b[0m\n",
              "|    |    └─Bottleneck: \u001b[1;36m3\u001b[0m-\u001b[1;36m44\u001b[0m             \u001b[1m[\u001b[0m\u001b[1;36m-1\u001b[0m, \u001b[1;36m1024\u001b[0m, \u001b[1;36m14\u001b[0m, \u001b[1;36m14\u001b[0m\u001b[1m]\u001b[0m        \u001b[1;36m1\u001b[0m,\u001b[1;36m117\u001b[0m,\u001b[1;36m184\u001b[0m\n",
              "|    |    └─Bottleneck: \u001b[1;36m3\u001b[0m-\u001b[1;36m45\u001b[0m             \u001b[1m[\u001b[0m\u001b[1;36m-1\u001b[0m, \u001b[1;36m1024\u001b[0m, \u001b[1;36m14\u001b[0m, \u001b[1;36m14\u001b[0m\u001b[1m]\u001b[0m        \u001b[1;36m1\u001b[0m,\u001b[1;36m117\u001b[0m,\u001b[1;36m184\u001b[0m\n",
              "|    |    └─Bottleneck: \u001b[1;36m3\u001b[0m-\u001b[1;36m46\u001b[0m             \u001b[1m[\u001b[0m\u001b[1;36m-1\u001b[0m, \u001b[1;36m1024\u001b[0m, \u001b[1;36m14\u001b[0m, \u001b[1;36m14\u001b[0m\u001b[1m]\u001b[0m        \u001b[1;36m1\u001b[0m,\u001b[1;36m117\u001b[0m,\u001b[1;36m184\u001b[0m\n",
              "|    |    └─Bottleneck: \u001b[1;36m3\u001b[0m-\u001b[1;36m47\u001b[0m             \u001b[1m[\u001b[0m\u001b[1;36m-1\u001b[0m, \u001b[1;36m1024\u001b[0m, \u001b[1;36m14\u001b[0m, \u001b[1;36m14\u001b[0m\u001b[1m]\u001b[0m        \u001b[1;36m1\u001b[0m,\u001b[1;36m117\u001b[0m,\u001b[1;36m184\u001b[0m\n",
              "|    └─Sequential: \u001b[1;36m2\u001b[0m-\u001b[1;36m8\u001b[0m                   \u001b[1m[\u001b[0m\u001b[1;36m-1\u001b[0m, \u001b[1;36m2048\u001b[0m, \u001b[1;36m7\u001b[0m, \u001b[1;36m7\u001b[0m\u001b[1m]\u001b[0m          --\n",
              "|    |    └─Bottleneck: \u001b[1;36m3\u001b[0m-\u001b[1;36m48\u001b[0m             \u001b[1m[\u001b[0m\u001b[1;36m-1\u001b[0m, \u001b[1;36m2048\u001b[0m, \u001b[1;36m7\u001b[0m, \u001b[1;36m7\u001b[0m\u001b[1m]\u001b[0m          \u001b[1;36m6\u001b[0m,\u001b[1;36m039\u001b[0m,\u001b[1;36m552\u001b[0m\n",
              "|    |    └─Bottleneck: \u001b[1;36m3\u001b[0m-\u001b[1;36m49\u001b[0m             \u001b[1m[\u001b[0m\u001b[1;36m-1\u001b[0m, \u001b[1;36m2048\u001b[0m, \u001b[1;36m7\u001b[0m, \u001b[1;36m7\u001b[0m\u001b[1m]\u001b[0m          \u001b[1;36m4\u001b[0m,\u001b[1;36m462\u001b[0m,\u001b[1;36m592\u001b[0m\n",
              "|    |    └─Bottleneck: \u001b[1;36m3\u001b[0m-\u001b[1;36m50\u001b[0m             \u001b[1m[\u001b[0m\u001b[1;36m-1\u001b[0m, \u001b[1;36m2048\u001b[0m, \u001b[1;36m7\u001b[0m, \u001b[1;36m7\u001b[0m\u001b[1m]\u001b[0m          \u001b[1;36m4\u001b[0m,\u001b[1;36m462\u001b[0m,\u001b[1;36m592\u001b[0m\n",
              "|    └─AdaptiveAvgPool2d: \u001b[1;36m2\u001b[0m-\u001b[1;36m9\u001b[0m            \u001b[1m[\u001b[0m\u001b[1;36m-1\u001b[0m, \u001b[1;36m2048\u001b[0m, \u001b[1;36m1\u001b[0m, \u001b[1;36m1\u001b[0m\u001b[1m]\u001b[0m          --\n",
              "├─Linear: \u001b[1;36m1\u001b[0m-\u001b[1;36m2\u001b[0m                            \u001b[1m[\u001b[0m\u001b[1;36m-1\u001b[0m, \u001b[1;36m256\u001b[0m\u001b[1m]\u001b[0m                 \u001b[1;36m524\u001b[0m,\u001b[1;36m544\u001b[0m\n",
              "├─BatchNorm1d: \u001b[1;36m1\u001b[0m-\u001b[1;36m3\u001b[0m                       \u001b[1m[\u001b[0m\u001b[1;36m-1\u001b[0m, \u001b[1;36m256\u001b[0m\u001b[1m]\u001b[0m                 \u001b[1;36m512\u001b[0m\n",
              "==========================================================================================\n",
              "Total params: \u001b[1;36m58\u001b[0m,\u001b[1;36m668\u001b[0m,\u001b[1;36m864\u001b[0m\n",
              "Trainable params: \u001b[1;36m58\u001b[0m,\u001b[1;36m668\u001b[0m,\u001b[1;36m864\u001b[0m\n",
              "Non-trainable params: \u001b[1;36m0\u001b[0m\n",
              "Total mult-adds \u001b[1m(\u001b[0mG\u001b[1m)\u001b[0m: \u001b[1;36m11.33\u001b[0m\n",
              "==========================================================================================\n",
              "Input size \u001b[1m(\u001b[0mMB\u001b[1m)\u001b[0m: \u001b[1;36m18.38\u001b[0m\n",
              "Forward/backward pass size \u001b[1m(\u001b[0mMB\u001b[1m)\u001b[0m: \u001b[1;36m321.18\u001b[0m\n",
              "Params size \u001b[1m(\u001b[0mMB\u001b[1m)\u001b[0m: \u001b[1;36m223.80\u001b[0m\n",
              "Estimated Total Size \u001b[1m(\u001b[0mMB\u001b[1m)\u001b[0m: \u001b[1;36m563.36\u001b[0m\n",
              "==========================================================================================\n"
            ],
            "text/html": [
              "<pre style=\"white-space:pre;overflow-x:auto;line-height:normal;font-family:Menlo,'DejaVu Sans Mono',consolas,'Courier New',monospace\">==========================================================================================\n",
              "Layer <span style=\"font-weight: bold\">(</span>typ<span style=\"color: #00ff00; text-decoration-color: #00ff00; font-weight: bold\">e:de</span>pth-idx<span style=\"font-weight: bold\">)</span>                   Output Shape              Param #\n",
              "==========================================================================================\n",
              "├─Sequential: <span style=\"color: #008080; text-decoration-color: #008080; font-weight: bold\">1</span>-<span style=\"color: #008080; text-decoration-color: #008080; font-weight: bold\">1</span>                        <span style=\"font-weight: bold\">[</span><span style=\"color: #008080; text-decoration-color: #008080; font-weight: bold\">-1</span>, <span style=\"color: #008080; text-decoration-color: #008080; font-weight: bold\">2048</span>, <span style=\"color: #008080; text-decoration-color: #008080; font-weight: bold\">1</span>, <span style=\"color: #008080; text-decoration-color: #008080; font-weight: bold\">1</span><span style=\"font-weight: bold\">]</span>          --\n",
              "|    └─Conv2d: <span style=\"color: #008080; text-decoration-color: #008080; font-weight: bold\">2</span>-<span style=\"color: #008080; text-decoration-color: #008080; font-weight: bold\">1</span>                       <span style=\"font-weight: bold\">[</span><span style=\"color: #008080; text-decoration-color: #008080; font-weight: bold\">-1</span>, <span style=\"color: #008080; text-decoration-color: #008080; font-weight: bold\">64</span>, <span style=\"color: #008080; text-decoration-color: #008080; font-weight: bold\">112</span>, <span style=\"color: #008080; text-decoration-color: #008080; font-weight: bold\">112</span><span style=\"font-weight: bold\">]</span>        <span style=\"color: #008080; text-decoration-color: #008080; font-weight: bold\">9</span>,<span style=\"color: #008080; text-decoration-color: #008080; font-weight: bold\">408</span>\n",
              "|    └─BatchNorm2d: <span style=\"color: #008080; text-decoration-color: #008080; font-weight: bold\">2</span>-<span style=\"color: #008080; text-decoration-color: #008080; font-weight: bold\">2</span>                  <span style=\"font-weight: bold\">[</span><span style=\"color: #008080; text-decoration-color: #008080; font-weight: bold\">-1</span>, <span style=\"color: #008080; text-decoration-color: #008080; font-weight: bold\">64</span>, <span style=\"color: #008080; text-decoration-color: #008080; font-weight: bold\">112</span>, <span style=\"color: #008080; text-decoration-color: #008080; font-weight: bold\">112</span><span style=\"font-weight: bold\">]</span>        <span style=\"color: #008080; text-decoration-color: #008080; font-weight: bold\">128</span>\n",
              "|    └─ReLU: <span style=\"color: #008080; text-decoration-color: #008080; font-weight: bold\">2</span>-<span style=\"color: #008080; text-decoration-color: #008080; font-weight: bold\">3</span>                         <span style=\"font-weight: bold\">[</span><span style=\"color: #008080; text-decoration-color: #008080; font-weight: bold\">-1</span>, <span style=\"color: #008080; text-decoration-color: #008080; font-weight: bold\">64</span>, <span style=\"color: #008080; text-decoration-color: #008080; font-weight: bold\">112</span>, <span style=\"color: #008080; text-decoration-color: #008080; font-weight: bold\">112</span><span style=\"font-weight: bold\">]</span>        --\n",
              "|    └─MaxPool2d: <span style=\"color: #008080; text-decoration-color: #008080; font-weight: bold\">2</span>-<span style=\"color: #008080; text-decoration-color: #008080; font-weight: bold\">4</span>                    <span style=\"font-weight: bold\">[</span><span style=\"color: #008080; text-decoration-color: #008080; font-weight: bold\">-1</span>, <span style=\"color: #008080; text-decoration-color: #008080; font-weight: bold\">64</span>, <span style=\"color: #008080; text-decoration-color: #008080; font-weight: bold\">56</span>, <span style=\"color: #008080; text-decoration-color: #008080; font-weight: bold\">56</span><span style=\"font-weight: bold\">]</span>          --\n",
              "|    └─Sequential: <span style=\"color: #008080; text-decoration-color: #008080; font-weight: bold\">2</span>-<span style=\"color: #008080; text-decoration-color: #008080; font-weight: bold\">5</span>                   <span style=\"font-weight: bold\">[</span><span style=\"color: #008080; text-decoration-color: #008080; font-weight: bold\">-1</span>, <span style=\"color: #008080; text-decoration-color: #008080; font-weight: bold\">256</span>, <span style=\"color: #008080; text-decoration-color: #008080; font-weight: bold\">56</span>, <span style=\"color: #008080; text-decoration-color: #008080; font-weight: bold\">56</span><span style=\"font-weight: bold\">]</span>         --\n",
              "|    |    └─Bottleneck: <span style=\"color: #008080; text-decoration-color: #008080; font-weight: bold\">3</span>-<span style=\"color: #008080; text-decoration-color: #008080; font-weight: bold\">1</span>              <span style=\"font-weight: bold\">[</span><span style=\"color: #008080; text-decoration-color: #008080; font-weight: bold\">-1</span>, <span style=\"color: #008080; text-decoration-color: #008080; font-weight: bold\">256</span>, <span style=\"color: #008080; text-decoration-color: #008080; font-weight: bold\">56</span>, <span style=\"color: #008080; text-decoration-color: #008080; font-weight: bold\">56</span><span style=\"font-weight: bold\">]</span>         <span style=\"color: #008080; text-decoration-color: #008080; font-weight: bold\">75</span>,<span style=\"color: #008080; text-decoration-color: #008080; font-weight: bold\">008</span>\n",
              "|    |    └─Bottleneck: <span style=\"color: #008080; text-decoration-color: #008080; font-weight: bold\">3</span>-<span style=\"color: #008080; text-decoration-color: #008080; font-weight: bold\">2</span>              <span style=\"font-weight: bold\">[</span><span style=\"color: #008080; text-decoration-color: #008080; font-weight: bold\">-1</span>, <span style=\"color: #008080; text-decoration-color: #008080; font-weight: bold\">256</span>, <span style=\"color: #008080; text-decoration-color: #008080; font-weight: bold\">56</span>, <span style=\"color: #008080; text-decoration-color: #008080; font-weight: bold\">56</span><span style=\"font-weight: bold\">]</span>         <span style=\"color: #008080; text-decoration-color: #008080; font-weight: bold\">70</span>,<span style=\"color: #008080; text-decoration-color: #008080; font-weight: bold\">400</span>\n",
              "|    |    └─Bottleneck: <span style=\"color: #008080; text-decoration-color: #008080; font-weight: bold\">3</span>-<span style=\"color: #008080; text-decoration-color: #008080; font-weight: bold\">3</span>              <span style=\"font-weight: bold\">[</span><span style=\"color: #008080; text-decoration-color: #008080; font-weight: bold\">-1</span>, <span style=\"color: #008080; text-decoration-color: #008080; font-weight: bold\">256</span>, <span style=\"color: #008080; text-decoration-color: #008080; font-weight: bold\">56</span>, <span style=\"color: #008080; text-decoration-color: #008080; font-weight: bold\">56</span><span style=\"font-weight: bold\">]</span>         <span style=\"color: #008080; text-decoration-color: #008080; font-weight: bold\">70</span>,<span style=\"color: #008080; text-decoration-color: #008080; font-weight: bold\">400</span>\n",
              "|    └─Sequential: <span style=\"color: #008080; text-decoration-color: #008080; font-weight: bold\">2</span>-<span style=\"color: #008080; text-decoration-color: #008080; font-weight: bold\">6</span>                   <span style=\"font-weight: bold\">[</span><span style=\"color: #008080; text-decoration-color: #008080; font-weight: bold\">-1</span>, <span style=\"color: #008080; text-decoration-color: #008080; font-weight: bold\">512</span>, <span style=\"color: #008080; text-decoration-color: #008080; font-weight: bold\">28</span>, <span style=\"color: #008080; text-decoration-color: #008080; font-weight: bold\">28</span><span style=\"font-weight: bold\">]</span>         --\n",
              "|    |    └─Bottleneck: <span style=\"color: #008080; text-decoration-color: #008080; font-weight: bold\">3</span>-<span style=\"color: #008080; text-decoration-color: #008080; font-weight: bold\">4</span>              <span style=\"font-weight: bold\">[</span><span style=\"color: #008080; text-decoration-color: #008080; font-weight: bold\">-1</span>, <span style=\"color: #008080; text-decoration-color: #008080; font-weight: bold\">512</span>, <span style=\"color: #008080; text-decoration-color: #008080; font-weight: bold\">28</span>, <span style=\"color: #008080; text-decoration-color: #008080; font-weight: bold\">28</span><span style=\"font-weight: bold\">]</span>         <span style=\"color: #008080; text-decoration-color: #008080; font-weight: bold\">379</span>,<span style=\"color: #008080; text-decoration-color: #008080; font-weight: bold\">392</span>\n",
              "|    |    └─Bottleneck: <span style=\"color: #008080; text-decoration-color: #008080; font-weight: bold\">3</span>-<span style=\"color: #008080; text-decoration-color: #008080; font-weight: bold\">5</span>              <span style=\"font-weight: bold\">[</span><span style=\"color: #008080; text-decoration-color: #008080; font-weight: bold\">-1</span>, <span style=\"color: #008080; text-decoration-color: #008080; font-weight: bold\">512</span>, <span style=\"color: #008080; text-decoration-color: #008080; font-weight: bold\">28</span>, <span style=\"color: #008080; text-decoration-color: #008080; font-weight: bold\">28</span><span style=\"font-weight: bold\">]</span>         <span style=\"color: #008080; text-decoration-color: #008080; font-weight: bold\">280</span>,<span style=\"color: #008080; text-decoration-color: #008080; font-weight: bold\">064</span>\n",
              "|    |    └─Bottleneck: <span style=\"color: #008080; text-decoration-color: #008080; font-weight: bold\">3</span>-<span style=\"color: #008080; text-decoration-color: #008080; font-weight: bold\">6</span>              <span style=\"font-weight: bold\">[</span><span style=\"color: #008080; text-decoration-color: #008080; font-weight: bold\">-1</span>, <span style=\"color: #008080; text-decoration-color: #008080; font-weight: bold\">512</span>, <span style=\"color: #008080; text-decoration-color: #008080; font-weight: bold\">28</span>, <span style=\"color: #008080; text-decoration-color: #008080; font-weight: bold\">28</span><span style=\"font-weight: bold\">]</span>         <span style=\"color: #008080; text-decoration-color: #008080; font-weight: bold\">280</span>,<span style=\"color: #008080; text-decoration-color: #008080; font-weight: bold\">064</span>\n",
              "|    |    └─Bottleneck: <span style=\"color: #008080; text-decoration-color: #008080; font-weight: bold\">3</span>-<span style=\"color: #008080; text-decoration-color: #008080; font-weight: bold\">7</span>              <span style=\"font-weight: bold\">[</span><span style=\"color: #008080; text-decoration-color: #008080; font-weight: bold\">-1</span>, <span style=\"color: #008080; text-decoration-color: #008080; font-weight: bold\">512</span>, <span style=\"color: #008080; text-decoration-color: #008080; font-weight: bold\">28</span>, <span style=\"color: #008080; text-decoration-color: #008080; font-weight: bold\">28</span><span style=\"font-weight: bold\">]</span>         <span style=\"color: #008080; text-decoration-color: #008080; font-weight: bold\">280</span>,<span style=\"color: #008080; text-decoration-color: #008080; font-weight: bold\">064</span>\n",
              "|    |    └─Bottleneck: <span style=\"color: #008080; text-decoration-color: #008080; font-weight: bold\">3</span>-<span style=\"color: #008080; text-decoration-color: #008080; font-weight: bold\">8</span>              <span style=\"font-weight: bold\">[</span><span style=\"color: #008080; text-decoration-color: #008080; font-weight: bold\">-1</span>, <span style=\"color: #008080; text-decoration-color: #008080; font-weight: bold\">512</span>, <span style=\"color: #008080; text-decoration-color: #008080; font-weight: bold\">28</span>, <span style=\"color: #008080; text-decoration-color: #008080; font-weight: bold\">28</span><span style=\"font-weight: bold\">]</span>         <span style=\"color: #008080; text-decoration-color: #008080; font-weight: bold\">280</span>,<span style=\"color: #008080; text-decoration-color: #008080; font-weight: bold\">064</span>\n",
              "|    |    └─Bottleneck: <span style=\"color: #008080; text-decoration-color: #008080; font-weight: bold\">3</span>-<span style=\"color: #008080; text-decoration-color: #008080; font-weight: bold\">9</span>              <span style=\"font-weight: bold\">[</span><span style=\"color: #008080; text-decoration-color: #008080; font-weight: bold\">-1</span>, <span style=\"color: #008080; text-decoration-color: #008080; font-weight: bold\">512</span>, <span style=\"color: #008080; text-decoration-color: #008080; font-weight: bold\">28</span>, <span style=\"color: #008080; text-decoration-color: #008080; font-weight: bold\">28</span><span style=\"font-weight: bold\">]</span>         <span style=\"color: #008080; text-decoration-color: #008080; font-weight: bold\">280</span>,<span style=\"color: #008080; text-decoration-color: #008080; font-weight: bold\">064</span>\n",
              "|    |    └─Bottleneck: <span style=\"color: #008080; text-decoration-color: #008080; font-weight: bold\">3</span>-<span style=\"color: #008080; text-decoration-color: #008080; font-weight: bold\">10</span>             <span style=\"font-weight: bold\">[</span><span style=\"color: #008080; text-decoration-color: #008080; font-weight: bold\">-1</span>, <span style=\"color: #008080; text-decoration-color: #008080; font-weight: bold\">512</span>, <span style=\"color: #008080; text-decoration-color: #008080; font-weight: bold\">28</span>, <span style=\"color: #008080; text-decoration-color: #008080; font-weight: bold\">28</span><span style=\"font-weight: bold\">]</span>         <span style=\"color: #008080; text-decoration-color: #008080; font-weight: bold\">280</span>,<span style=\"color: #008080; text-decoration-color: #008080; font-weight: bold\">064</span>\n",
              "|    |    └─Bottleneck: <span style=\"color: #008080; text-decoration-color: #008080; font-weight: bold\">3</span>-<span style=\"color: #008080; text-decoration-color: #008080; font-weight: bold\">11</span>             <span style=\"font-weight: bold\">[</span><span style=\"color: #008080; text-decoration-color: #008080; font-weight: bold\">-1</span>, <span style=\"color: #008080; text-decoration-color: #008080; font-weight: bold\">512</span>, <span style=\"color: #008080; text-decoration-color: #008080; font-weight: bold\">28</span>, <span style=\"color: #008080; text-decoration-color: #008080; font-weight: bold\">28</span><span style=\"font-weight: bold\">]</span>         <span style=\"color: #008080; text-decoration-color: #008080; font-weight: bold\">280</span>,<span style=\"color: #008080; text-decoration-color: #008080; font-weight: bold\">064</span>\n",
              "|    └─Sequential: <span style=\"color: #008080; text-decoration-color: #008080; font-weight: bold\">2</span>-<span style=\"color: #008080; text-decoration-color: #008080; font-weight: bold\">7</span>                   <span style=\"font-weight: bold\">[</span><span style=\"color: #008080; text-decoration-color: #008080; font-weight: bold\">-1</span>, <span style=\"color: #008080; text-decoration-color: #008080; font-weight: bold\">1024</span>, <span style=\"color: #008080; text-decoration-color: #008080; font-weight: bold\">14</span>, <span style=\"color: #008080; text-decoration-color: #008080; font-weight: bold\">14</span><span style=\"font-weight: bold\">]</span>        --\n",
              "|    |    └─Bottleneck: <span style=\"color: #008080; text-decoration-color: #008080; font-weight: bold\">3</span>-<span style=\"color: #008080; text-decoration-color: #008080; font-weight: bold\">12</span>             <span style=\"font-weight: bold\">[</span><span style=\"color: #008080; text-decoration-color: #008080; font-weight: bold\">-1</span>, <span style=\"color: #008080; text-decoration-color: #008080; font-weight: bold\">1024</span>, <span style=\"color: #008080; text-decoration-color: #008080; font-weight: bold\">14</span>, <span style=\"color: #008080; text-decoration-color: #008080; font-weight: bold\">14</span><span style=\"font-weight: bold\">]</span>        <span style=\"color: #008080; text-decoration-color: #008080; font-weight: bold\">1</span>,<span style=\"color: #008080; text-decoration-color: #008080; font-weight: bold\">512</span>,<span style=\"color: #008080; text-decoration-color: #008080; font-weight: bold\">448</span>\n",
              "|    |    └─Bottleneck: <span style=\"color: #008080; text-decoration-color: #008080; font-weight: bold\">3</span>-<span style=\"color: #008080; text-decoration-color: #008080; font-weight: bold\">13</span>             <span style=\"font-weight: bold\">[</span><span style=\"color: #008080; text-decoration-color: #008080; font-weight: bold\">-1</span>, <span style=\"color: #008080; text-decoration-color: #008080; font-weight: bold\">1024</span>, <span style=\"color: #008080; text-decoration-color: #008080; font-weight: bold\">14</span>, <span style=\"color: #008080; text-decoration-color: #008080; font-weight: bold\">14</span><span style=\"font-weight: bold\">]</span>        <span style=\"color: #008080; text-decoration-color: #008080; font-weight: bold\">1</span>,<span style=\"color: #008080; text-decoration-color: #008080; font-weight: bold\">117</span>,<span style=\"color: #008080; text-decoration-color: #008080; font-weight: bold\">184</span>\n",
              "|    |    └─Bottleneck: <span style=\"color: #008080; text-decoration-color: #008080; font-weight: bold\">3</span>-<span style=\"color: #008080; text-decoration-color: #008080; font-weight: bold\">14</span>             <span style=\"font-weight: bold\">[</span><span style=\"color: #008080; text-decoration-color: #008080; font-weight: bold\">-1</span>, <span style=\"color: #008080; text-decoration-color: #008080; font-weight: bold\">1024</span>, <span style=\"color: #008080; text-decoration-color: #008080; font-weight: bold\">14</span>, <span style=\"color: #008080; text-decoration-color: #008080; font-weight: bold\">14</span><span style=\"font-weight: bold\">]</span>        <span style=\"color: #008080; text-decoration-color: #008080; font-weight: bold\">1</span>,<span style=\"color: #008080; text-decoration-color: #008080; font-weight: bold\">117</span>,<span style=\"color: #008080; text-decoration-color: #008080; font-weight: bold\">184</span>\n",
              "|    |    └─Bottleneck: <span style=\"color: #008080; text-decoration-color: #008080; font-weight: bold\">3</span>-<span style=\"color: #008080; text-decoration-color: #008080; font-weight: bold\">15</span>             <span style=\"font-weight: bold\">[</span><span style=\"color: #008080; text-decoration-color: #008080; font-weight: bold\">-1</span>, <span style=\"color: #008080; text-decoration-color: #008080; font-weight: bold\">1024</span>, <span style=\"color: #008080; text-decoration-color: #008080; font-weight: bold\">14</span>, <span style=\"color: #008080; text-decoration-color: #008080; font-weight: bold\">14</span><span style=\"font-weight: bold\">]</span>        <span style=\"color: #008080; text-decoration-color: #008080; font-weight: bold\">1</span>,<span style=\"color: #008080; text-decoration-color: #008080; font-weight: bold\">117</span>,<span style=\"color: #008080; text-decoration-color: #008080; font-weight: bold\">184</span>\n",
              "|    |    └─Bottleneck: <span style=\"color: #008080; text-decoration-color: #008080; font-weight: bold\">3</span>-<span style=\"color: #008080; text-decoration-color: #008080; font-weight: bold\">16</span>             <span style=\"font-weight: bold\">[</span><span style=\"color: #008080; text-decoration-color: #008080; font-weight: bold\">-1</span>, <span style=\"color: #008080; text-decoration-color: #008080; font-weight: bold\">1024</span>, <span style=\"color: #008080; text-decoration-color: #008080; font-weight: bold\">14</span>, <span style=\"color: #008080; text-decoration-color: #008080; font-weight: bold\">14</span><span style=\"font-weight: bold\">]</span>        <span style=\"color: #008080; text-decoration-color: #008080; font-weight: bold\">1</span>,<span style=\"color: #008080; text-decoration-color: #008080; font-weight: bold\">117</span>,<span style=\"color: #008080; text-decoration-color: #008080; font-weight: bold\">184</span>\n",
              "|    |    └─Bottleneck: <span style=\"color: #008080; text-decoration-color: #008080; font-weight: bold\">3</span>-<span style=\"color: #008080; text-decoration-color: #008080; font-weight: bold\">17</span>             <span style=\"font-weight: bold\">[</span><span style=\"color: #008080; text-decoration-color: #008080; font-weight: bold\">-1</span>, <span style=\"color: #008080; text-decoration-color: #008080; font-weight: bold\">1024</span>, <span style=\"color: #008080; text-decoration-color: #008080; font-weight: bold\">14</span>, <span style=\"color: #008080; text-decoration-color: #008080; font-weight: bold\">14</span><span style=\"font-weight: bold\">]</span>        <span style=\"color: #008080; text-decoration-color: #008080; font-weight: bold\">1</span>,<span style=\"color: #008080; text-decoration-color: #008080; font-weight: bold\">117</span>,<span style=\"color: #008080; text-decoration-color: #008080; font-weight: bold\">184</span>\n",
              "|    |    └─Bottleneck: <span style=\"color: #008080; text-decoration-color: #008080; font-weight: bold\">3</span>-<span style=\"color: #008080; text-decoration-color: #008080; font-weight: bold\">18</span>             <span style=\"font-weight: bold\">[</span><span style=\"color: #008080; text-decoration-color: #008080; font-weight: bold\">-1</span>, <span style=\"color: #008080; text-decoration-color: #008080; font-weight: bold\">1024</span>, <span style=\"color: #008080; text-decoration-color: #008080; font-weight: bold\">14</span>, <span style=\"color: #008080; text-decoration-color: #008080; font-weight: bold\">14</span><span style=\"font-weight: bold\">]</span>        <span style=\"color: #008080; text-decoration-color: #008080; font-weight: bold\">1</span>,<span style=\"color: #008080; text-decoration-color: #008080; font-weight: bold\">117</span>,<span style=\"color: #008080; text-decoration-color: #008080; font-weight: bold\">184</span>\n",
              "|    |    └─Bottleneck: <span style=\"color: #008080; text-decoration-color: #008080; font-weight: bold\">3</span>-<span style=\"color: #008080; text-decoration-color: #008080; font-weight: bold\">19</span>             <span style=\"font-weight: bold\">[</span><span style=\"color: #008080; text-decoration-color: #008080; font-weight: bold\">-1</span>, <span style=\"color: #008080; text-decoration-color: #008080; font-weight: bold\">1024</span>, <span style=\"color: #008080; text-decoration-color: #008080; font-weight: bold\">14</span>, <span style=\"color: #008080; text-decoration-color: #008080; font-weight: bold\">14</span><span style=\"font-weight: bold\">]</span>        <span style=\"color: #008080; text-decoration-color: #008080; font-weight: bold\">1</span>,<span style=\"color: #008080; text-decoration-color: #008080; font-weight: bold\">117</span>,<span style=\"color: #008080; text-decoration-color: #008080; font-weight: bold\">184</span>\n",
              "|    |    └─Bottleneck: <span style=\"color: #008080; text-decoration-color: #008080; font-weight: bold\">3</span>-<span style=\"color: #008080; text-decoration-color: #008080; font-weight: bold\">20</span>             <span style=\"font-weight: bold\">[</span><span style=\"color: #008080; text-decoration-color: #008080; font-weight: bold\">-1</span>, <span style=\"color: #008080; text-decoration-color: #008080; font-weight: bold\">1024</span>, <span style=\"color: #008080; text-decoration-color: #008080; font-weight: bold\">14</span>, <span style=\"color: #008080; text-decoration-color: #008080; font-weight: bold\">14</span><span style=\"font-weight: bold\">]</span>        <span style=\"color: #008080; text-decoration-color: #008080; font-weight: bold\">1</span>,<span style=\"color: #008080; text-decoration-color: #008080; font-weight: bold\">117</span>,<span style=\"color: #008080; text-decoration-color: #008080; font-weight: bold\">184</span>\n",
              "|    |    └─Bottleneck: <span style=\"color: #008080; text-decoration-color: #008080; font-weight: bold\">3</span>-<span style=\"color: #008080; text-decoration-color: #008080; font-weight: bold\">21</span>             <span style=\"font-weight: bold\">[</span><span style=\"color: #008080; text-decoration-color: #008080; font-weight: bold\">-1</span>, <span style=\"color: #008080; text-decoration-color: #008080; font-weight: bold\">1024</span>, <span style=\"color: #008080; text-decoration-color: #008080; font-weight: bold\">14</span>, <span style=\"color: #008080; text-decoration-color: #008080; font-weight: bold\">14</span><span style=\"font-weight: bold\">]</span>        <span style=\"color: #008080; text-decoration-color: #008080; font-weight: bold\">1</span>,<span style=\"color: #008080; text-decoration-color: #008080; font-weight: bold\">117</span>,<span style=\"color: #008080; text-decoration-color: #008080; font-weight: bold\">184</span>\n",
              "|    |    └─Bottleneck: <span style=\"color: #008080; text-decoration-color: #008080; font-weight: bold\">3</span>-<span style=\"color: #008080; text-decoration-color: #008080; font-weight: bold\">22</span>             <span style=\"font-weight: bold\">[</span><span style=\"color: #008080; text-decoration-color: #008080; font-weight: bold\">-1</span>, <span style=\"color: #008080; text-decoration-color: #008080; font-weight: bold\">1024</span>, <span style=\"color: #008080; text-decoration-color: #008080; font-weight: bold\">14</span>, <span style=\"color: #008080; text-decoration-color: #008080; font-weight: bold\">14</span><span style=\"font-weight: bold\">]</span>        <span style=\"color: #008080; text-decoration-color: #008080; font-weight: bold\">1</span>,<span style=\"color: #008080; text-decoration-color: #008080; font-weight: bold\">117</span>,<span style=\"color: #008080; text-decoration-color: #008080; font-weight: bold\">184</span>\n",
              "|    |    └─Bottleneck: <span style=\"color: #008080; text-decoration-color: #008080; font-weight: bold\">3</span>-<span style=\"color: #008080; text-decoration-color: #008080; font-weight: bold\">23</span>             <span style=\"font-weight: bold\">[</span><span style=\"color: #008080; text-decoration-color: #008080; font-weight: bold\">-1</span>, <span style=\"color: #008080; text-decoration-color: #008080; font-weight: bold\">1024</span>, <span style=\"color: #008080; text-decoration-color: #008080; font-weight: bold\">14</span>, <span style=\"color: #008080; text-decoration-color: #008080; font-weight: bold\">14</span><span style=\"font-weight: bold\">]</span>        <span style=\"color: #008080; text-decoration-color: #008080; font-weight: bold\">1</span>,<span style=\"color: #008080; text-decoration-color: #008080; font-weight: bold\">117</span>,<span style=\"color: #008080; text-decoration-color: #008080; font-weight: bold\">184</span>\n",
              "|    |    └─Bottleneck: <span style=\"color: #008080; text-decoration-color: #008080; font-weight: bold\">3</span>-<span style=\"color: #008080; text-decoration-color: #008080; font-weight: bold\">24</span>             <span style=\"font-weight: bold\">[</span><span style=\"color: #008080; text-decoration-color: #008080; font-weight: bold\">-1</span>, <span style=\"color: #008080; text-decoration-color: #008080; font-weight: bold\">1024</span>, <span style=\"color: #008080; text-decoration-color: #008080; font-weight: bold\">14</span>, <span style=\"color: #008080; text-decoration-color: #008080; font-weight: bold\">14</span><span style=\"font-weight: bold\">]</span>        <span style=\"color: #008080; text-decoration-color: #008080; font-weight: bold\">1</span>,<span style=\"color: #008080; text-decoration-color: #008080; font-weight: bold\">117</span>,<span style=\"color: #008080; text-decoration-color: #008080; font-weight: bold\">184</span>\n",
              "|    |    └─Bottleneck: <span style=\"color: #008080; text-decoration-color: #008080; font-weight: bold\">3</span>-<span style=\"color: #008080; text-decoration-color: #008080; font-weight: bold\">25</span>             <span style=\"font-weight: bold\">[</span><span style=\"color: #008080; text-decoration-color: #008080; font-weight: bold\">-1</span>, <span style=\"color: #008080; text-decoration-color: #008080; font-weight: bold\">1024</span>, <span style=\"color: #008080; text-decoration-color: #008080; font-weight: bold\">14</span>, <span style=\"color: #008080; text-decoration-color: #008080; font-weight: bold\">14</span><span style=\"font-weight: bold\">]</span>        <span style=\"color: #008080; text-decoration-color: #008080; font-weight: bold\">1</span>,<span style=\"color: #008080; text-decoration-color: #008080; font-weight: bold\">117</span>,<span style=\"color: #008080; text-decoration-color: #008080; font-weight: bold\">184</span>\n",
              "|    |    └─Bottleneck: <span style=\"color: #008080; text-decoration-color: #008080; font-weight: bold\">3</span>-<span style=\"color: #008080; text-decoration-color: #008080; font-weight: bold\">26</span>             <span style=\"font-weight: bold\">[</span><span style=\"color: #008080; text-decoration-color: #008080; font-weight: bold\">-1</span>, <span style=\"color: #008080; text-decoration-color: #008080; font-weight: bold\">1024</span>, <span style=\"color: #008080; text-decoration-color: #008080; font-weight: bold\">14</span>, <span style=\"color: #008080; text-decoration-color: #008080; font-weight: bold\">14</span><span style=\"font-weight: bold\">]</span>        <span style=\"color: #008080; text-decoration-color: #008080; font-weight: bold\">1</span>,<span style=\"color: #008080; text-decoration-color: #008080; font-weight: bold\">117</span>,<span style=\"color: #008080; text-decoration-color: #008080; font-weight: bold\">184</span>\n",
              "|    |    └─Bottleneck: <span style=\"color: #008080; text-decoration-color: #008080; font-weight: bold\">3</span>-<span style=\"color: #008080; text-decoration-color: #008080; font-weight: bold\">27</span>             <span style=\"font-weight: bold\">[</span><span style=\"color: #008080; text-decoration-color: #008080; font-weight: bold\">-1</span>, <span style=\"color: #008080; text-decoration-color: #008080; font-weight: bold\">1024</span>, <span style=\"color: #008080; text-decoration-color: #008080; font-weight: bold\">14</span>, <span style=\"color: #008080; text-decoration-color: #008080; font-weight: bold\">14</span><span style=\"font-weight: bold\">]</span>        <span style=\"color: #008080; text-decoration-color: #008080; font-weight: bold\">1</span>,<span style=\"color: #008080; text-decoration-color: #008080; font-weight: bold\">117</span>,<span style=\"color: #008080; text-decoration-color: #008080; font-weight: bold\">184</span>\n",
              "|    |    └─Bottleneck: <span style=\"color: #008080; text-decoration-color: #008080; font-weight: bold\">3</span>-<span style=\"color: #008080; text-decoration-color: #008080; font-weight: bold\">28</span>             <span style=\"font-weight: bold\">[</span><span style=\"color: #008080; text-decoration-color: #008080; font-weight: bold\">-1</span>, <span style=\"color: #008080; text-decoration-color: #008080; font-weight: bold\">1024</span>, <span style=\"color: #008080; text-decoration-color: #008080; font-weight: bold\">14</span>, <span style=\"color: #008080; text-decoration-color: #008080; font-weight: bold\">14</span><span style=\"font-weight: bold\">]</span>        <span style=\"color: #008080; text-decoration-color: #008080; font-weight: bold\">1</span>,<span style=\"color: #008080; text-decoration-color: #008080; font-weight: bold\">117</span>,<span style=\"color: #008080; text-decoration-color: #008080; font-weight: bold\">184</span>\n",
              "|    |    └─Bottleneck: <span style=\"color: #008080; text-decoration-color: #008080; font-weight: bold\">3</span>-<span style=\"color: #008080; text-decoration-color: #008080; font-weight: bold\">29</span>             <span style=\"font-weight: bold\">[</span><span style=\"color: #008080; text-decoration-color: #008080; font-weight: bold\">-1</span>, <span style=\"color: #008080; text-decoration-color: #008080; font-weight: bold\">1024</span>, <span style=\"color: #008080; text-decoration-color: #008080; font-weight: bold\">14</span>, <span style=\"color: #008080; text-decoration-color: #008080; font-weight: bold\">14</span><span style=\"font-weight: bold\">]</span>        <span style=\"color: #008080; text-decoration-color: #008080; font-weight: bold\">1</span>,<span style=\"color: #008080; text-decoration-color: #008080; font-weight: bold\">117</span>,<span style=\"color: #008080; text-decoration-color: #008080; font-weight: bold\">184</span>\n",
              "|    |    └─Bottleneck: <span style=\"color: #008080; text-decoration-color: #008080; font-weight: bold\">3</span>-<span style=\"color: #008080; text-decoration-color: #008080; font-weight: bold\">30</span>             <span style=\"font-weight: bold\">[</span><span style=\"color: #008080; text-decoration-color: #008080; font-weight: bold\">-1</span>, <span style=\"color: #008080; text-decoration-color: #008080; font-weight: bold\">1024</span>, <span style=\"color: #008080; text-decoration-color: #008080; font-weight: bold\">14</span>, <span style=\"color: #008080; text-decoration-color: #008080; font-weight: bold\">14</span><span style=\"font-weight: bold\">]</span>        <span style=\"color: #008080; text-decoration-color: #008080; font-weight: bold\">1</span>,<span style=\"color: #008080; text-decoration-color: #008080; font-weight: bold\">117</span>,<span style=\"color: #008080; text-decoration-color: #008080; font-weight: bold\">184</span>\n",
              "|    |    └─Bottleneck: <span style=\"color: #008080; text-decoration-color: #008080; font-weight: bold\">3</span>-<span style=\"color: #008080; text-decoration-color: #008080; font-weight: bold\">31</span>             <span style=\"font-weight: bold\">[</span><span style=\"color: #008080; text-decoration-color: #008080; font-weight: bold\">-1</span>, <span style=\"color: #008080; text-decoration-color: #008080; font-weight: bold\">1024</span>, <span style=\"color: #008080; text-decoration-color: #008080; font-weight: bold\">14</span>, <span style=\"color: #008080; text-decoration-color: #008080; font-weight: bold\">14</span><span style=\"font-weight: bold\">]</span>        <span style=\"color: #008080; text-decoration-color: #008080; font-weight: bold\">1</span>,<span style=\"color: #008080; text-decoration-color: #008080; font-weight: bold\">117</span>,<span style=\"color: #008080; text-decoration-color: #008080; font-weight: bold\">184</span>\n",
              "|    |    └─Bottleneck: <span style=\"color: #008080; text-decoration-color: #008080; font-weight: bold\">3</span>-<span style=\"color: #008080; text-decoration-color: #008080; font-weight: bold\">32</span>             <span style=\"font-weight: bold\">[</span><span style=\"color: #008080; text-decoration-color: #008080; font-weight: bold\">-1</span>, <span style=\"color: #008080; text-decoration-color: #008080; font-weight: bold\">1024</span>, <span style=\"color: #008080; text-decoration-color: #008080; font-weight: bold\">14</span>, <span style=\"color: #008080; text-decoration-color: #008080; font-weight: bold\">14</span><span style=\"font-weight: bold\">]</span>        <span style=\"color: #008080; text-decoration-color: #008080; font-weight: bold\">1</span>,<span style=\"color: #008080; text-decoration-color: #008080; font-weight: bold\">117</span>,<span style=\"color: #008080; text-decoration-color: #008080; font-weight: bold\">184</span>\n",
              "|    |    └─Bottleneck: <span style=\"color: #008080; text-decoration-color: #008080; font-weight: bold\">3</span>-<span style=\"color: #008080; text-decoration-color: #008080; font-weight: bold\">33</span>             <span style=\"font-weight: bold\">[</span><span style=\"color: #008080; text-decoration-color: #008080; font-weight: bold\">-1</span>, <span style=\"color: #008080; text-decoration-color: #008080; font-weight: bold\">1024</span>, <span style=\"color: #008080; text-decoration-color: #008080; font-weight: bold\">14</span>, <span style=\"color: #008080; text-decoration-color: #008080; font-weight: bold\">14</span><span style=\"font-weight: bold\">]</span>        <span style=\"color: #008080; text-decoration-color: #008080; font-weight: bold\">1</span>,<span style=\"color: #008080; text-decoration-color: #008080; font-weight: bold\">117</span>,<span style=\"color: #008080; text-decoration-color: #008080; font-weight: bold\">184</span>\n",
              "|    |    └─Bottleneck: <span style=\"color: #008080; text-decoration-color: #008080; font-weight: bold\">3</span>-<span style=\"color: #008080; text-decoration-color: #008080; font-weight: bold\">34</span>             <span style=\"font-weight: bold\">[</span><span style=\"color: #008080; text-decoration-color: #008080; font-weight: bold\">-1</span>, <span style=\"color: #008080; text-decoration-color: #008080; font-weight: bold\">1024</span>, <span style=\"color: #008080; text-decoration-color: #008080; font-weight: bold\">14</span>, <span style=\"color: #008080; text-decoration-color: #008080; font-weight: bold\">14</span><span style=\"font-weight: bold\">]</span>        <span style=\"color: #008080; text-decoration-color: #008080; font-weight: bold\">1</span>,<span style=\"color: #008080; text-decoration-color: #008080; font-weight: bold\">117</span>,<span style=\"color: #008080; text-decoration-color: #008080; font-weight: bold\">184</span>\n",
              "|    |    └─Bottleneck: <span style=\"color: #008080; text-decoration-color: #008080; font-weight: bold\">3</span>-<span style=\"color: #008080; text-decoration-color: #008080; font-weight: bold\">35</span>             <span style=\"font-weight: bold\">[</span><span style=\"color: #008080; text-decoration-color: #008080; font-weight: bold\">-1</span>, <span style=\"color: #008080; text-decoration-color: #008080; font-weight: bold\">1024</span>, <span style=\"color: #008080; text-decoration-color: #008080; font-weight: bold\">14</span>, <span style=\"color: #008080; text-decoration-color: #008080; font-weight: bold\">14</span><span style=\"font-weight: bold\">]</span>        <span style=\"color: #008080; text-decoration-color: #008080; font-weight: bold\">1</span>,<span style=\"color: #008080; text-decoration-color: #008080; font-weight: bold\">117</span>,<span style=\"color: #008080; text-decoration-color: #008080; font-weight: bold\">184</span>\n",
              "|    |    └─Bottleneck: <span style=\"color: #008080; text-decoration-color: #008080; font-weight: bold\">3</span>-<span style=\"color: #008080; text-decoration-color: #008080; font-weight: bold\">36</span>             <span style=\"font-weight: bold\">[</span><span style=\"color: #008080; text-decoration-color: #008080; font-weight: bold\">-1</span>, <span style=\"color: #008080; text-decoration-color: #008080; font-weight: bold\">1024</span>, <span style=\"color: #008080; text-decoration-color: #008080; font-weight: bold\">14</span>, <span style=\"color: #008080; text-decoration-color: #008080; font-weight: bold\">14</span><span style=\"font-weight: bold\">]</span>        <span style=\"color: #008080; text-decoration-color: #008080; font-weight: bold\">1</span>,<span style=\"color: #008080; text-decoration-color: #008080; font-weight: bold\">117</span>,<span style=\"color: #008080; text-decoration-color: #008080; font-weight: bold\">184</span>\n",
              "|    |    └─Bottleneck: <span style=\"color: #008080; text-decoration-color: #008080; font-weight: bold\">3</span>-<span style=\"color: #008080; text-decoration-color: #008080; font-weight: bold\">37</span>             <span style=\"font-weight: bold\">[</span><span style=\"color: #008080; text-decoration-color: #008080; font-weight: bold\">-1</span>, <span style=\"color: #008080; text-decoration-color: #008080; font-weight: bold\">1024</span>, <span style=\"color: #008080; text-decoration-color: #008080; font-weight: bold\">14</span>, <span style=\"color: #008080; text-decoration-color: #008080; font-weight: bold\">14</span><span style=\"font-weight: bold\">]</span>        <span style=\"color: #008080; text-decoration-color: #008080; font-weight: bold\">1</span>,<span style=\"color: #008080; text-decoration-color: #008080; font-weight: bold\">117</span>,<span style=\"color: #008080; text-decoration-color: #008080; font-weight: bold\">184</span>\n",
              "|    |    └─Bottleneck: <span style=\"color: #008080; text-decoration-color: #008080; font-weight: bold\">3</span>-<span style=\"color: #008080; text-decoration-color: #008080; font-weight: bold\">38</span>             <span style=\"font-weight: bold\">[</span><span style=\"color: #008080; text-decoration-color: #008080; font-weight: bold\">-1</span>, <span style=\"color: #008080; text-decoration-color: #008080; font-weight: bold\">1024</span>, <span style=\"color: #008080; text-decoration-color: #008080; font-weight: bold\">14</span>, <span style=\"color: #008080; text-decoration-color: #008080; font-weight: bold\">14</span><span style=\"font-weight: bold\">]</span>        <span style=\"color: #008080; text-decoration-color: #008080; font-weight: bold\">1</span>,<span style=\"color: #008080; text-decoration-color: #008080; font-weight: bold\">117</span>,<span style=\"color: #008080; text-decoration-color: #008080; font-weight: bold\">184</span>\n",
              "|    |    └─Bottleneck: <span style=\"color: #008080; text-decoration-color: #008080; font-weight: bold\">3</span>-<span style=\"color: #008080; text-decoration-color: #008080; font-weight: bold\">39</span>             <span style=\"font-weight: bold\">[</span><span style=\"color: #008080; text-decoration-color: #008080; font-weight: bold\">-1</span>, <span style=\"color: #008080; text-decoration-color: #008080; font-weight: bold\">1024</span>, <span style=\"color: #008080; text-decoration-color: #008080; font-weight: bold\">14</span>, <span style=\"color: #008080; text-decoration-color: #008080; font-weight: bold\">14</span><span style=\"font-weight: bold\">]</span>        <span style=\"color: #008080; text-decoration-color: #008080; font-weight: bold\">1</span>,<span style=\"color: #008080; text-decoration-color: #008080; font-weight: bold\">117</span>,<span style=\"color: #008080; text-decoration-color: #008080; font-weight: bold\">184</span>\n",
              "|    |    └─Bottleneck: <span style=\"color: #008080; text-decoration-color: #008080; font-weight: bold\">3</span>-<span style=\"color: #008080; text-decoration-color: #008080; font-weight: bold\">40</span>             <span style=\"font-weight: bold\">[</span><span style=\"color: #008080; text-decoration-color: #008080; font-weight: bold\">-1</span>, <span style=\"color: #008080; text-decoration-color: #008080; font-weight: bold\">1024</span>, <span style=\"color: #008080; text-decoration-color: #008080; font-weight: bold\">14</span>, <span style=\"color: #008080; text-decoration-color: #008080; font-weight: bold\">14</span><span style=\"font-weight: bold\">]</span>        <span style=\"color: #008080; text-decoration-color: #008080; font-weight: bold\">1</span>,<span style=\"color: #008080; text-decoration-color: #008080; font-weight: bold\">117</span>,<span style=\"color: #008080; text-decoration-color: #008080; font-weight: bold\">184</span>\n",
              "|    |    └─Bottleneck: <span style=\"color: #008080; text-decoration-color: #008080; font-weight: bold\">3</span>-<span style=\"color: #008080; text-decoration-color: #008080; font-weight: bold\">41</span>             <span style=\"font-weight: bold\">[</span><span style=\"color: #008080; text-decoration-color: #008080; font-weight: bold\">-1</span>, <span style=\"color: #008080; text-decoration-color: #008080; font-weight: bold\">1024</span>, <span style=\"color: #008080; text-decoration-color: #008080; font-weight: bold\">14</span>, <span style=\"color: #008080; text-decoration-color: #008080; font-weight: bold\">14</span><span style=\"font-weight: bold\">]</span>        <span style=\"color: #008080; text-decoration-color: #008080; font-weight: bold\">1</span>,<span style=\"color: #008080; text-decoration-color: #008080; font-weight: bold\">117</span>,<span style=\"color: #008080; text-decoration-color: #008080; font-weight: bold\">184</span>\n",
              "|    |    └─Bottleneck: <span style=\"color: #008080; text-decoration-color: #008080; font-weight: bold\">3</span>-<span style=\"color: #008080; text-decoration-color: #008080; font-weight: bold\">42</span>             <span style=\"font-weight: bold\">[</span><span style=\"color: #008080; text-decoration-color: #008080; font-weight: bold\">-1</span>, <span style=\"color: #008080; text-decoration-color: #008080; font-weight: bold\">1024</span>, <span style=\"color: #008080; text-decoration-color: #008080; font-weight: bold\">14</span>, <span style=\"color: #008080; text-decoration-color: #008080; font-weight: bold\">14</span><span style=\"font-weight: bold\">]</span>        <span style=\"color: #008080; text-decoration-color: #008080; font-weight: bold\">1</span>,<span style=\"color: #008080; text-decoration-color: #008080; font-weight: bold\">117</span>,<span style=\"color: #008080; text-decoration-color: #008080; font-weight: bold\">184</span>\n",
              "|    |    └─Bottleneck: <span style=\"color: #008080; text-decoration-color: #008080; font-weight: bold\">3</span>-<span style=\"color: #008080; text-decoration-color: #008080; font-weight: bold\">43</span>             <span style=\"font-weight: bold\">[</span><span style=\"color: #008080; text-decoration-color: #008080; font-weight: bold\">-1</span>, <span style=\"color: #008080; text-decoration-color: #008080; font-weight: bold\">1024</span>, <span style=\"color: #008080; text-decoration-color: #008080; font-weight: bold\">14</span>, <span style=\"color: #008080; text-decoration-color: #008080; font-weight: bold\">14</span><span style=\"font-weight: bold\">]</span>        <span style=\"color: #008080; text-decoration-color: #008080; font-weight: bold\">1</span>,<span style=\"color: #008080; text-decoration-color: #008080; font-weight: bold\">117</span>,<span style=\"color: #008080; text-decoration-color: #008080; font-weight: bold\">184</span>\n",
              "|    |    └─Bottleneck: <span style=\"color: #008080; text-decoration-color: #008080; font-weight: bold\">3</span>-<span style=\"color: #008080; text-decoration-color: #008080; font-weight: bold\">44</span>             <span style=\"font-weight: bold\">[</span><span style=\"color: #008080; text-decoration-color: #008080; font-weight: bold\">-1</span>, <span style=\"color: #008080; text-decoration-color: #008080; font-weight: bold\">1024</span>, <span style=\"color: #008080; text-decoration-color: #008080; font-weight: bold\">14</span>, <span style=\"color: #008080; text-decoration-color: #008080; font-weight: bold\">14</span><span style=\"font-weight: bold\">]</span>        <span style=\"color: #008080; text-decoration-color: #008080; font-weight: bold\">1</span>,<span style=\"color: #008080; text-decoration-color: #008080; font-weight: bold\">117</span>,<span style=\"color: #008080; text-decoration-color: #008080; font-weight: bold\">184</span>\n",
              "|    |    └─Bottleneck: <span style=\"color: #008080; text-decoration-color: #008080; font-weight: bold\">3</span>-<span style=\"color: #008080; text-decoration-color: #008080; font-weight: bold\">45</span>             <span style=\"font-weight: bold\">[</span><span style=\"color: #008080; text-decoration-color: #008080; font-weight: bold\">-1</span>, <span style=\"color: #008080; text-decoration-color: #008080; font-weight: bold\">1024</span>, <span style=\"color: #008080; text-decoration-color: #008080; font-weight: bold\">14</span>, <span style=\"color: #008080; text-decoration-color: #008080; font-weight: bold\">14</span><span style=\"font-weight: bold\">]</span>        <span style=\"color: #008080; text-decoration-color: #008080; font-weight: bold\">1</span>,<span style=\"color: #008080; text-decoration-color: #008080; font-weight: bold\">117</span>,<span style=\"color: #008080; text-decoration-color: #008080; font-weight: bold\">184</span>\n",
              "|    |    └─Bottleneck: <span style=\"color: #008080; text-decoration-color: #008080; font-weight: bold\">3</span>-<span style=\"color: #008080; text-decoration-color: #008080; font-weight: bold\">46</span>             <span style=\"font-weight: bold\">[</span><span style=\"color: #008080; text-decoration-color: #008080; font-weight: bold\">-1</span>, <span style=\"color: #008080; text-decoration-color: #008080; font-weight: bold\">1024</span>, <span style=\"color: #008080; text-decoration-color: #008080; font-weight: bold\">14</span>, <span style=\"color: #008080; text-decoration-color: #008080; font-weight: bold\">14</span><span style=\"font-weight: bold\">]</span>        <span style=\"color: #008080; text-decoration-color: #008080; font-weight: bold\">1</span>,<span style=\"color: #008080; text-decoration-color: #008080; font-weight: bold\">117</span>,<span style=\"color: #008080; text-decoration-color: #008080; font-weight: bold\">184</span>\n",
              "|    |    └─Bottleneck: <span style=\"color: #008080; text-decoration-color: #008080; font-weight: bold\">3</span>-<span style=\"color: #008080; text-decoration-color: #008080; font-weight: bold\">47</span>             <span style=\"font-weight: bold\">[</span><span style=\"color: #008080; text-decoration-color: #008080; font-weight: bold\">-1</span>, <span style=\"color: #008080; text-decoration-color: #008080; font-weight: bold\">1024</span>, <span style=\"color: #008080; text-decoration-color: #008080; font-weight: bold\">14</span>, <span style=\"color: #008080; text-decoration-color: #008080; font-weight: bold\">14</span><span style=\"font-weight: bold\">]</span>        <span style=\"color: #008080; text-decoration-color: #008080; font-weight: bold\">1</span>,<span style=\"color: #008080; text-decoration-color: #008080; font-weight: bold\">117</span>,<span style=\"color: #008080; text-decoration-color: #008080; font-weight: bold\">184</span>\n",
              "|    └─Sequential: <span style=\"color: #008080; text-decoration-color: #008080; font-weight: bold\">2</span>-<span style=\"color: #008080; text-decoration-color: #008080; font-weight: bold\">8</span>                   <span style=\"font-weight: bold\">[</span><span style=\"color: #008080; text-decoration-color: #008080; font-weight: bold\">-1</span>, <span style=\"color: #008080; text-decoration-color: #008080; font-weight: bold\">2048</span>, <span style=\"color: #008080; text-decoration-color: #008080; font-weight: bold\">7</span>, <span style=\"color: #008080; text-decoration-color: #008080; font-weight: bold\">7</span><span style=\"font-weight: bold\">]</span>          --\n",
              "|    |    └─Bottleneck: <span style=\"color: #008080; text-decoration-color: #008080; font-weight: bold\">3</span>-<span style=\"color: #008080; text-decoration-color: #008080; font-weight: bold\">48</span>             <span style=\"font-weight: bold\">[</span><span style=\"color: #008080; text-decoration-color: #008080; font-weight: bold\">-1</span>, <span style=\"color: #008080; text-decoration-color: #008080; font-weight: bold\">2048</span>, <span style=\"color: #008080; text-decoration-color: #008080; font-weight: bold\">7</span>, <span style=\"color: #008080; text-decoration-color: #008080; font-weight: bold\">7</span><span style=\"font-weight: bold\">]</span>          <span style=\"color: #008080; text-decoration-color: #008080; font-weight: bold\">6</span>,<span style=\"color: #008080; text-decoration-color: #008080; font-weight: bold\">039</span>,<span style=\"color: #008080; text-decoration-color: #008080; font-weight: bold\">552</span>\n",
              "|    |    └─Bottleneck: <span style=\"color: #008080; text-decoration-color: #008080; font-weight: bold\">3</span>-<span style=\"color: #008080; text-decoration-color: #008080; font-weight: bold\">49</span>             <span style=\"font-weight: bold\">[</span><span style=\"color: #008080; text-decoration-color: #008080; font-weight: bold\">-1</span>, <span style=\"color: #008080; text-decoration-color: #008080; font-weight: bold\">2048</span>, <span style=\"color: #008080; text-decoration-color: #008080; font-weight: bold\">7</span>, <span style=\"color: #008080; text-decoration-color: #008080; font-weight: bold\">7</span><span style=\"font-weight: bold\">]</span>          <span style=\"color: #008080; text-decoration-color: #008080; font-weight: bold\">4</span>,<span style=\"color: #008080; text-decoration-color: #008080; font-weight: bold\">462</span>,<span style=\"color: #008080; text-decoration-color: #008080; font-weight: bold\">592</span>\n",
              "|    |    └─Bottleneck: <span style=\"color: #008080; text-decoration-color: #008080; font-weight: bold\">3</span>-<span style=\"color: #008080; text-decoration-color: #008080; font-weight: bold\">50</span>             <span style=\"font-weight: bold\">[</span><span style=\"color: #008080; text-decoration-color: #008080; font-weight: bold\">-1</span>, <span style=\"color: #008080; text-decoration-color: #008080; font-weight: bold\">2048</span>, <span style=\"color: #008080; text-decoration-color: #008080; font-weight: bold\">7</span>, <span style=\"color: #008080; text-decoration-color: #008080; font-weight: bold\">7</span><span style=\"font-weight: bold\">]</span>          <span style=\"color: #008080; text-decoration-color: #008080; font-weight: bold\">4</span>,<span style=\"color: #008080; text-decoration-color: #008080; font-weight: bold\">462</span>,<span style=\"color: #008080; text-decoration-color: #008080; font-weight: bold\">592</span>\n",
              "|    └─AdaptiveAvgPool2d: <span style=\"color: #008080; text-decoration-color: #008080; font-weight: bold\">2</span>-<span style=\"color: #008080; text-decoration-color: #008080; font-weight: bold\">9</span>            <span style=\"font-weight: bold\">[</span><span style=\"color: #008080; text-decoration-color: #008080; font-weight: bold\">-1</span>, <span style=\"color: #008080; text-decoration-color: #008080; font-weight: bold\">2048</span>, <span style=\"color: #008080; text-decoration-color: #008080; font-weight: bold\">1</span>, <span style=\"color: #008080; text-decoration-color: #008080; font-weight: bold\">1</span><span style=\"font-weight: bold\">]</span>          --\n",
              "├─Linear: <span style=\"color: #008080; text-decoration-color: #008080; font-weight: bold\">1</span>-<span style=\"color: #008080; text-decoration-color: #008080; font-weight: bold\">2</span>                            <span style=\"font-weight: bold\">[</span><span style=\"color: #008080; text-decoration-color: #008080; font-weight: bold\">-1</span>, <span style=\"color: #008080; text-decoration-color: #008080; font-weight: bold\">256</span><span style=\"font-weight: bold\">]</span>                 <span style=\"color: #008080; text-decoration-color: #008080; font-weight: bold\">524</span>,<span style=\"color: #008080; text-decoration-color: #008080; font-weight: bold\">544</span>\n",
              "├─BatchNorm1d: <span style=\"color: #008080; text-decoration-color: #008080; font-weight: bold\">1</span>-<span style=\"color: #008080; text-decoration-color: #008080; font-weight: bold\">3</span>                       <span style=\"font-weight: bold\">[</span><span style=\"color: #008080; text-decoration-color: #008080; font-weight: bold\">-1</span>, <span style=\"color: #008080; text-decoration-color: #008080; font-weight: bold\">256</span><span style=\"font-weight: bold\">]</span>                 <span style=\"color: #008080; text-decoration-color: #008080; font-weight: bold\">512</span>\n",
              "==========================================================================================\n",
              "Total params: <span style=\"color: #008080; text-decoration-color: #008080; font-weight: bold\">58</span>,<span style=\"color: #008080; text-decoration-color: #008080; font-weight: bold\">668</span>,<span style=\"color: #008080; text-decoration-color: #008080; font-weight: bold\">864</span>\n",
              "Trainable params: <span style=\"color: #008080; text-decoration-color: #008080; font-weight: bold\">58</span>,<span style=\"color: #008080; text-decoration-color: #008080; font-weight: bold\">668</span>,<span style=\"color: #008080; text-decoration-color: #008080; font-weight: bold\">864</span>\n",
              "Non-trainable params: <span style=\"color: #008080; text-decoration-color: #008080; font-weight: bold\">0</span>\n",
              "Total mult-adds <span style=\"font-weight: bold\">(</span>G<span style=\"font-weight: bold\">)</span>: <span style=\"color: #008080; text-decoration-color: #008080; font-weight: bold\">11.33</span>\n",
              "==========================================================================================\n",
              "Input size <span style=\"font-weight: bold\">(</span>MB<span style=\"font-weight: bold\">)</span>: <span style=\"color: #008080; text-decoration-color: #008080; font-weight: bold\">18.38</span>\n",
              "Forward/backward pass size <span style=\"font-weight: bold\">(</span>MB<span style=\"font-weight: bold\">)</span>: <span style=\"color: #008080; text-decoration-color: #008080; font-weight: bold\">321.18</span>\n",
              "Params size <span style=\"font-weight: bold\">(</span>MB<span style=\"font-weight: bold\">)</span>: <span style=\"color: #008080; text-decoration-color: #008080; font-weight: bold\">223.80</span>\n",
              "Estimated Total Size <span style=\"font-weight: bold\">(</span>MB<span style=\"font-weight: bold\">)</span>: <span style=\"color: #008080; text-decoration-color: #008080; font-weight: bold\">563.36</span>\n",
              "==========================================================================================\n",
              "</pre>\n"
            ]
          },
          "metadata": {}
        }
      ]
    },
    {
      "cell_type": "code",
      "source": [
        "# Define the decoder architecture – DecoderRNN\n",
        "class DecoderRNN(nn.Module):\n",
        "\n",
        "  # Set the hyper-parameters and build the layers\n",
        "  def __init__(self, embed_size, hidden_size, vocab_size, \\\n",
        "    num_layers, max_seq_length=80):\n",
        "    \"\"\"Set the hyper-parameters and build the layers.\"\"\" \n",
        "    super(DecoderRNN, self).__init__()\n",
        "    self.embed = nn.Embedding(vocab_size, embed_size) \n",
        "    self.lstm = nn.LSTM(embed_size, hidden_size, \\\n",
        "    num_layers, batch_first=True) \n",
        "    self.linear = nn.Linear(hidden_size, vocab_size)\n",
        "    self.max_seq_length = max_seq_length\n",
        "\n",
        "  # Decode image feature vectors and generates captions\n",
        "  def forward(self, features, captions, lengths): \n",
        "    \"\"\"Decode image feature vectors and generates captions.\"\"\"\n",
        "    embeddings = self.embed(captions)\n",
        "    embeddings = torch.cat((features.unsqueeze(1), \\\n",
        "    embeddings), 1)\n",
        "    packed = pack_padded_sequence(embeddings, \\\n",
        "    lengths.cpu(), batch_first=True) \n",
        "    outputs, _ = self.lstm(packed)\n",
        "    outputs = self.linear(outputs[0]) \n",
        "    return outputs\n",
        "\n",
        "  #Generate captions for given image features using greedy search\n",
        "  def predict(self, features, states=None): \n",
        "    \"\"\"Generate captions for given image features using greedy search.\"\"\" \n",
        "    sampled_ids = []\n",
        "    inputs = features.unsqueeze(1)\n",
        "    for i in range(self.max_seq_length):\n",
        "      hiddens, states = self.lstm(inputs, states) \n",
        "      # hiddens: (batch_size, 1, hidden_size) \n",
        "      outputs = self.linear(hiddens.squeeze(1)) \n",
        "      # outputs: (batch_size, vocab_size)\n",
        "      _, predicted = outputs.max(1)\n",
        "      # predicted: (batch_size) \n",
        "      sampled_ids.append(predicted) \n",
        "      inputs = self.embed(predicted)\n",
        "      # inputs: (batch_size, embed_size) \n",
        "      inputs = inputs.unsqueeze(1)\n",
        "      # inputs: (batch_size, 1, embed_size)\n",
        "\n",
        "    sampled_ids = torch.stack(sampled_ids, 1)\n",
        "    # sampled_ids: (batch_size, max_seq_length)\n",
        "    \n",
        "    # convert predicted tokens to strings \n",
        "    sentences = []\n",
        "    for sampled_id in sampled_ids:\n",
        "      sampled_id = sampled_id.cpu().numpy() \n",
        "      sampled_caption = []\n",
        "      for word_id in sampled_id:\n",
        "        word = vocab.itos[word_id] \n",
        "        sampled_caption.append(word) \n",
        "        if word == '<end>':\n",
        "          break\n",
        "      sentence = ' '.join(sampled_caption) \n",
        "      sentences.append(sentence)\n",
        "    return sentences"
      ],
      "metadata": {
        "id": "dTnb76AtAeKy"
      },
      "execution_count": null,
      "outputs": []
    },
    {
      "cell_type": "code",
      "source": [
        "# Trains on a single batch of data\n",
        "def train_batch(data, encoder, decoder, optimizer, criterion): \n",
        "  encoder.train()\n",
        "  decoder.train()\n",
        "  images, captions, lengths = data\n",
        "  images = images.to(device)\n",
        "  captions = captions.to(device)\n",
        "  targets = pack_padded_sequence(captions, lengths.cpu(), batch_first=True)[0] \n",
        "  features = encoder(images)\n",
        "  outputs = decoder(features, captions, lengths) \n",
        "  loss = criterion(outputs, targets) \n",
        "  decoder.zero_grad()\n",
        "  encoder.zero_grad()\n",
        "  loss.backward() \n",
        "  optimizer.step() \n",
        "  return loss\n",
        "\n",
        "# Validate on a batch of data\n",
        "@torch.no_grad()\n",
        "def validate_batch(data, encoder, decoder, criterion):\n",
        "  encoder.eval()\n",
        "  decoder.eval()\n",
        "  images, captions, lengths = data\n",
        "  images = images.to(device)\n",
        "  captions = captions.to(device)\n",
        "  targets = pack_padded_sequence(captions, lengths.cpu(), \\\n",
        "  batch_first=True)[0] \n",
        "  features = encoder(images)\n",
        "  outputs = decoder(features, captions, lengths) \n",
        "  loss = criterion(outputs, targets)\n",
        "  return loss\n",
        "\n",
        "# Define encoder, decoder, loss function, and optimizer\n",
        "encoder = EncoderCNN(256).to(device)\n",
        "decoder = DecoderRNN(256, 512, len(vocab.itos), 1).to(device) \n",
        "criterion = nn.CrossEntropyLoss()\n",
        "params = list(decoder.parameters()) + list(encoder.linear.parameters()) + list(encoder.bn.parameters())\n",
        "optimizer = torch.optim.AdamW(params, lr=1e-3) \n",
        "n_epochs = 10\n",
        "log = Report(n_epochs)"
      ],
      "metadata": {
        "id": "SCkJgKFKBo1p"
      },
      "execution_count": null,
      "outputs": []
    },
    {
      "cell_type": "code",
      "source": [
        "# Train the model over increasing epochs\n",
        "for epoch in range(n_epochs):\n",
        "  if epoch == 5: \n",
        "    optimizer = torch.optim.AdamW(params, lr=1e-4)\n",
        "  N = len(trn_dl)\n",
        "  for i, data in enumerate(trn_dl):\n",
        "    trn_loss = train_batch(data, encoder, decoder, optimizer, criterion)\n",
        "    pos = epoch + (1+i)/N\n",
        "    log.record(pos=pos, trn_loss=trn_loss, end='\\r')\n",
        "  N = len(val_dl)\n",
        "  for i, data in enumerate(val_dl):\n",
        "    val_loss = validate_batch(data, encoder, decoder, criterion)\n",
        "    pos = epoch + (1+i)/N\n",
        "    log.record(pos=pos, val_loss=val_loss, end='\\r') \n",
        "  log.report_avgs(epoch+1)\n",
        "log.plot_epochs(log=True)"
      ],
      "metadata": {
        "id": "hvlxGALyBysD",
        "colab": {
          "base_uri": "https://localhost:8080/"
        },
        "outputId": "5333d083-c540-481d-c811-4121f43c57b8"
      },
      "execution_count": null,
      "outputs": [
        {
          "output_type": "stream",
          "name": "stdout",
          "text": [
            "EPOCH: 0.055  trn_loss: 2.856  (3945.46s - 719633.07s remaining)"
          ]
        }
      ]
    },
    {
      "cell_type": "code",
      "source": [
        "# Train the model over increasing epochs\n",
        "def load_image(image_path, transform=None):\n",
        "  image = Image.open(image_path).convert('RGB') \n",
        "  image = image.resize([224, 224], Image.LANCZOS) \n",
        "  if transform is not None:\n",
        "    tfm_image = transform(image)[None] \n",
        "  return image, tfm_image\n",
        "\n",
        "def load_image_and_predict(image_path): \n",
        "  transform = transforms.Compose([\n",
        "      transforms.ToTensor(), \n",
        "      transforms.Normalize(\n",
        "          (0.485, 0.456, 0.406), \n",
        "          (0.229, 0.224, 0.225)\n",
        "          )\n",
        "  ])\n",
        "  org_image, tfm_image = load_image(image_path, transform) \n",
        "  image_tensor = tfm_image.to(device)\n",
        "  encoder.eval()\n",
        "  decoder.eval()\n",
        "  feature = encoder(image_tensor) \n",
        "  sentence = decoder.predict(feature)[0] \n",
        "  show(org_image, title=sentence) \n",
        "  return sentence\n",
        "\n",
        "# Predict an image\n",
        "files = Glob('val-images') \n",
        "load_image_and_predict(choose(files))"
      ],
      "metadata": {
        "id": "8pC2P1pVCjlr"
      },
      "execution_count": null,
      "outputs": []
    }
  ]
}